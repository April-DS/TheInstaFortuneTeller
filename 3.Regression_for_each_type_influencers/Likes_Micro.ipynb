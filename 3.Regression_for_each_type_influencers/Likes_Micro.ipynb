{
 "cells": [
  {
   "cell_type": "code",
   "execution_count": 1,
   "metadata": {},
   "outputs": [
    {
     "name": "stderr",
     "output_type": "stream",
     "text": [
      "\n",
      "Bad key \"text.kerning_factor\" on line 4 in\n",
      "C:\\Users\\anpej\\Anaconda3\\lib\\site-packages\\matplotlib\\mpl-data\\stylelib\\_classic_test_patch.mplstyle.\n",
      "You probably need to get an updated matplotlibrc file from\n",
      "https://github.com/matplotlib/matplotlib/blob/v3.1.3/matplotlibrc.template\n",
      "or from the matplotlib source distribution\n"
     ]
    }
   ],
   "source": [
    "import pandas as pd\n",
    "import numpy as np\n",
    "import matplotlib.pyplot as plt\n",
    "import seaborn as sns\n",
    "from datetime import datetime as dt\n",
    "\n",
    "from sklearn.model_selection import train_test_split\n",
    "from sklearn.model_selection import cross_val_score\n",
    "from sklearn.preprocessing import StandardScaler\n",
    "\n",
    "# regression\n",
    "import xgboost as xgb\n",
    "from sklearn.linear_model import Ridge, RidgeCV\n",
    "from sklearn.linear_model import Lasso, LassoCV\n",
    "\n",
    "# metrics\n",
    "from sklearn.metrics import mean_absolute_error,mean_squared_error, r2_score\n",
    "\n",
    "# saver model\n",
    "import joblib\n",
    "\n",
    "import ast"
   ]
  },
  {
   "cell_type": "code",
   "execution_count": 2,
   "metadata": {},
   "outputs": [],
   "source": [
    "# Importing dataset\n",
    "main_df = pd.read_csv('../datasets/main_df_clean.csv')\n",
    "main_df.drop_duplicates(subset=['post_text','time','hashtags'],inplace=True)\n",
    "main_df = pd.get_dummies(main_df,columns=['post_type'])\n",
    "main_df['comment_engagement_profile'] = main_df['mean_comments'] / main_df['num_followers']"
   ]
  },
  {
   "cell_type": "code",
   "execution_count": 3,
   "metadata": {},
   "outputs": [
    {
     "data": {
      "text/plain": [
       "(17051, 45)"
      ]
     },
     "execution_count": 3,
     "metadata": {},
     "output_type": "execute_result"
    }
   ],
   "source": [
    "# Choosing Mega influencers only\n",
    "df_macro = main_df[main_df['influencer_type']=='Micro']\n",
    "df_macro = df_macro[df_macro['num_likes_post'].between(df_macro['num_likes_post'].quantile(0.01),\n",
    "                                           df_macro['num_likes_post'].quantile(0.999))]\n",
    "df_macro.shape"
   ]
  },
  {
   "cell_type": "code",
   "execution_count": 4,
   "metadata": {},
   "outputs": [],
   "source": [
    "# Creating X, y\n",
    "features = ['num_followers','mean_likes','post_type_carousel','comment_engagement_profile',\n",
    "           'len_post_text','weekday','hour','polarity_post_txt','subjectivity_post_txt']\n",
    "X = df_macro[features]\n",
    "y = df_macro['num_likes_post']"
   ]
  },
  {
   "cell_type": "code",
   "execution_count": null,
   "metadata": {},
   "outputs": [],
   "source": [
    "# Modeling\n",
    "import xgboost as xgb\n",
    "model_xgb = xgb.XGBRegressor(learning_rate=0.015, \n",
    "                             max_depth=3,\n",
    "                             min_child_weight=5, \n",
    "                             n_estimators=513, \n",
    "                             subsample=0.3,\n",
    "                             booster='gbtree',\n",
    "                             n_jobs=-1)\n",
    "model_xgb.fit(X, y)"
   ]
  },
  {
   "cell_type": "code",
   "execution_count": 7,
   "metadata": {},
   "outputs": [
    {
     "data": {
      "image/png": "[encoded data removed]",
      "text/plain": [
       "<Figure size 576x576 with 1 Axes>"
      ]
     },
     "metadata": {
      "needs_background": "light"
     },
     "output_type": "display_data"
    }
   ],
   "source": [
    "import xgboost as xgb\n",
    "h = 8\n",
    "w = 8\n",
    "fig, ax = plt.subplots(figsize=(h, w))\n",
    "ax = xgb.plot_importance(model_xgb, importance_type='weight',ax=ax);\n",
    "xgb.plot_importance(model_xgb, importance_type='weight',ax=ax);"
   ]
  },
  {
   "cell_type": "code",
   "execution_count": 8,
   "metadata": {},
   "outputs": [
    {
     "name": "stdout",
     "output_type": "stream",
     "text": [
      "[17:14:00] WARNING: src/objective/regression_obj.cu:152: reg:linear is now deprecated in favor of reg:squarederror.\n"
     ]
    }
   ],
   "source": [
    "import pickle\n",
    "file_name = \"./saved_models/xgb_likes_micro.pkl\"\n",
    "# save\n",
    "pickle.dump(model_xgb, open(file_name, \"wb\"))\n",
    "# load\n",
    "xgb_model_loaded = pickle.load(open(file_name, \"rb\"))"
   ]
  },
  {
   "cell_type": "code",
   "execution_count": 6,
   "metadata": {},
   "outputs": [],
   "source": [
    "# Function for metrics\n",
    "def metrics_function(y,predictions,num_features=len(X.columns)):\n",
    "    '''\n",
    "    Calculate:\n",
    "    Mean Absolute Error,\n",
    "    Residual Sum of Squares,\n",
    "    Root Mean Squared Error,\n",
    "    Coefficient of Determination,\n",
    "    Adjusted R2\n",
    "    \n",
    "    Print the values of metrics\n",
    "    \n",
    "    Takes:\n",
    "    y - true target values\n",
    "    predictions - predicted values\n",
    "    num_features - number of features\n",
    "    \n",
    "    Returns:\n",
    "    Nothing\n",
    "    '''\n",
    "    # Mean Absolute Error\n",
    "    mae = mean_absolute_error(y,predictions)\n",
    "    # Residual Sum of Squares\n",
    "    rss = ((y-predictions)**2).sum()\n",
    "    # Mean Squared Error\n",
    "    mse = mean_squared_error(y,predictions)\n",
    "    # Root Mean Squared Error\n",
    "    rmse = mse**0.5\n",
    "    # Coefficient of Determination\n",
    "    r = r2_score(y,predictions)\n",
    "    # Adjusted R2\n",
    "    def r2_adj(y,predictions,num_features):\n",
    "        r_adj = 1 - (1-r)*(len(y)-1)/(len(y)-num_features-1)\n",
    "        return r_adj\n",
    "    r_adj = r2_adj(y,predictions,num_features)\n",
    "    print(f'Mean Absolute Error: {mae}')\n",
    "    print(f'Residual Sum of Squares: {rss}')\n",
    "    print(f'Mean Squared Error: {mse}')\n",
    "    print(f'Root Mean Squared Error: {rmse}')\n",
    "    print(f'Coefficient of Determination R2: {r}')\n",
    "    print(f'Adjusted R2: {r_adj}')"
   ]
  },
  {
   "cell_type": "code",
   "execution_count": 11,
   "metadata": {},
   "outputs": [
    {
     "name": "stdout",
     "output_type": "stream",
     "text": [
      "Mean Absolute Error: 144.0749405759163\n",
      "Residual Sum of Squares: 1147031552.0\n",
      "Mean Squared Error: 67270.63466873582\n",
      "Root Mean Squared Error: 259.365831729501\n",
      "Coefficient of Determination R2: 0.6800746082000944\n",
      "Adjusted R2: 0.6799056434370994\n"
     ]
    }
   ],
   "source": [
    "y_pred = xgb_model_loaded.predict(X)\n",
    "metrics_function(y,y_pred)"
   ]
  },
  {
   "cell_type": "code",
   "execution_count": null,
   "metadata": {},
   "outputs": [],
   "source": []
  },
  {
   "cell_type": "code",
   "execution_count": null,
   "metadata": {},
   "outputs": [],
   "source": []
  }
 ],
 "metadata": {
  "kernelspec": {
   "display_name": "Python 3",
   "language": "python",
   "name": "python3"
  },
  "language_info": {
   "codemirror_mode": {
    "name": "ipython",
    "version": 3
   },
   "file_extension": ".py",
   "mimetype": "text/x-python",
   "name": "python",
   "nbconvert_exporter": "python",
   "pygments_lexer": "ipython3",
   "version": "3.7.7"
  },
  "varInspector": {
   "cols": {
    "lenName": 16,
    "lenType": 16,
    "lenVar": 40
   },
   "kernels_config": {
    "python": {
     "delete_cmd_postfix": "",
     "delete_cmd_prefix": "del ",
     "library": "var_list.py",
     "varRefreshCmd": "print(var_dic_list())"
    },
    "r": {
     "delete_cmd_postfix": ") ",
     "delete_cmd_prefix": "rm(",
     "library": "var_list.r",
     "varRefreshCmd": "cat(var_dic_list()) "
    }
   },
   "types_to_exclude": [
    "module",
    "function",
    "builtin_function_or_method",
    "instance",
    "_Feature"
   ],
   "window_display": false
  }
 },
 "nbformat": 4,
 "nbformat_minor": 4
}
