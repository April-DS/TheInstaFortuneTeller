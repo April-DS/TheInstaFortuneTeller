{
 "cells": [
  {
   "cell_type": "markdown",
   "metadata": {},
   "source": [
    "## Search for hashtags"
   ]
  },
  {
   "cell_type": "markdown",
   "metadata": {},
   "source": [
    "Search throw database with popular hashtags and similar to popular hashtags to recommend to user."
   ]
  },
  {
   "cell_type": "code",
   "execution_count": 3,
   "metadata": {},
   "outputs": [],
   "source": [
    "import pandas as pd\n",
    "import numpy as np\n",
    "import ast"
   ]
  },
  {
   "cell_type": "code",
   "execution_count": 11,
   "metadata": {},
   "outputs": [],
   "source": [
    "# Creating fake user info\n",
    "user_words = ['cat','weather','people']\n",
    "num_followers = 10_000"
   ]
  },
  {
   "cell_type": "code",
   "execution_count": 15,
   "metadata": {},
   "outputs": [
    {
     "name": "stdout",
     "output_type": "stream",
     "text": [
      "#weathered, #weatherchannel, #weathering, #weatherphotography, #weatherman, #peoplescreatives, #peoplescreative, #peopleinframe, #peoplephotography, #peoplecreatives #weather, #cat, #catsofinstagram, #cats, #catstagram, #catlover, #catoftheday, #people\n"
     ]
    }
   ],
   "source": [
    "# Upload hashtag database\n",
    "all_hashtags = pd.read_csv('./datasets/all_hashtag_database.csv')\n",
    "all_hashtags['similar'] = all_hashtags['similar'].apply(ast.literal_eval)\n",
    "all_hashtags['num_posts'] = all_hashtags['num_posts'].apply(ast.literal_eval)\n",
    "\n",
    "\n",
    "# check hashtags for user\n",
    "all_indices = []\n",
    "for word in set(user_words):\n",
    "    indx = all_hashtags[all_hashtags['base_hash']==word].index.values.tolist()\n",
    "    if len(indx) >0:\n",
    "        all_indices.extend(indx)\n",
    "\n",
    "usefull_hashtags = []\n",
    "other_hashtags = []\n",
    "for _, row in all_hashtags.loc[set(all_indices),:].iterrows():\n",
    "    other_hashtags.append('#' + row.original_hash)\n",
    "    for i in range(len(row)):\n",
    "        if num_followers*1000 > int(row.num_posts[i]):\n",
    "            usefull_hashtags.append('#' + row['similar'][i])\n",
    "        else:\n",
    "            other_hashtags.append('#' + row['similar'][i])\n",
    "if len(usefull_hashtags) == 0 and len(other_hashtags) == 0:\n",
    "    hashtags_message_useful = 'Hmmm... I don\\'t see anything on your photo or in your text :('\n",
    "    hashtags_message_other = 'Maybe try write a bit longer caption.'\n",
    "else:\n",
    "    if len(usefull_hashtags) > 0:\n",
    "        hashtags_message_useful = ', '.join(hashtags for hashtags in usefull_hashtags)\n",
    "    else:\n",
    "        hashtags_message_useful = 'I can suggest you only very popular hashtags'\n",
    "\n",
    "    if len(other_hashtags) > 0:\n",
    "        hashtags_message_other = ', '.join(hashtags for hashtags in other_hashtags)\n",
    "    else:\n",
    "        hashtags_message_other = 'You don\\'t need any other hashtags. Those above are just right!'\n",
    "    \n",
    "print(hashtags_message_useful,hashtags_message_other)"
   ]
  }
 ],
 "metadata": {
  "kernelspec": {
   "display_name": "Python 3",
   "language": "python",
   "name": "python3"
  },
  "language_info": {
   "codemirror_mode": {
    "name": "ipython",
    "version": 3
   },
   "file_extension": ".py",
   "mimetype": "text/x-python",
   "name": "python",
   "nbconvert_exporter": "python",
   "pygments_lexer": "ipython3",
   "version": "3.7.7"
  },
  "varInspector": {
   "cols": {
    "lenName": 16,
    "lenType": 16,
    "lenVar": 40
   },
   "kernels_config": {
    "python": {
     "delete_cmd_postfix": "",
     "delete_cmd_prefix": "del ",
     "library": "var_list.py",
     "varRefreshCmd": "print(var_dic_list())"
    },
    "r": {
     "delete_cmd_postfix": ") ",
     "delete_cmd_prefix": "rm(",
     "library": "var_list.r",
     "varRefreshCmd": "cat(var_dic_list()) "
    }
   },
   "types_to_exclude": [
    "module",
    "function",
    "builtin_function_or_method",
    "instance",
    "_Feature"
   ],
   "window_display": false
  }
 },
 "nbformat": 4,
 "nbformat_minor": 4
}
