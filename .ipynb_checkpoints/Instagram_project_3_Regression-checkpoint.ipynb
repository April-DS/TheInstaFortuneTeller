{
 "cells": [
  {
   "cell_type": "markdown",
   "metadata": {},
   "source": [
    "## Regression models"
   ]
  },
  {
   "cell_type": "markdown",
   "metadata": {},
   "source": [
    "Here some regression models were tried"
   ]
  },
  {
   "cell_type": "code",
   "execution_count": 1,
   "metadata": {},
   "outputs": [
    {
     "name": "stderr",
     "output_type": "stream",
     "text": [
      "\n",
      "Bad key \"text.kerning_factor\" on line 4 in\n",
      "C:\\Users\\anpej\\Anaconda3\\lib\\site-packages\\matplotlib\\mpl-data\\stylelib\\_classic_test_patch.mplstyle.\n",
      "You probably need to get an updated matplotlibrc file from\n",
      "https://github.com/matplotlib/matplotlib/blob/v3.1.3/matplotlibrc.template\n",
      "or from the matplotlib source distribution\n",
      "Using TensorFlow backend.\n"
     ]
    }
   ],
   "source": [
    "import pandas as pd\n",
    "import numpy as np\n",
    "import matplotlib.pyplot as plt\n",
    "import seaborn as sns\n",
    "from datetime import datetime as dt\n",
    "\n",
    "from sklearn.model_selection import train_test_split\n",
    "from sklearn.model_selection import cross_val_score\n",
    "from sklearn.preprocessing import StandardScaler\n",
    "\n",
    "# regression\n",
    "import xgboost as xgb\n",
    "from sklearn.linear_model import LinearRegression\n",
    "from sklearn.linear_model import Ridge, RidgeCV\n",
    "from sklearn.linear_model import Lasso, LassoCV\n",
    "from sklearn.linear_model import LinearRegression\n",
    "from sklearn.linear_model import Lasso\n",
    "from sklearn.linear_model import ElasticNet\n",
    "from sklearn.tree import DecisionTreeRegressor\n",
    "from sklearn.neighbors import KNeighborsRegressor\n",
    "from sklearn.ensemble import GradientBoostingRegressor\n",
    "\n",
    "from keras.callbacks import ModelCheckpoint\n",
    "from keras.models import Sequential\n",
    "from keras.layers import Dense, Activation, Flatten\n",
    "from tensorflow.keras.callbacks import EarlyStopping\n",
    "\n",
    "# metrics\n",
    "from sklearn.metrics import mean_absolute_error,mean_squared_error, r2_score\n",
    "from sklearn.metrics import confusion_matrix, plot_confusion_matrix, classification_report\n",
    "from sklearn.metrics import accuracy_score, f1_score, precision_score, recall_score,roc_auc_score\n",
    "\n",
    "import ast"
   ]
  },
  {
   "cell_type": "code",
   "execution_count": 3,
   "metadata": {},
   "outputs": [],
   "source": [
    "# Importing dataset\n",
    "# converting dtypes from str to list and datetime\n",
    "main_df = pd.read_csv('./datasets/main_df_clean.csv')\n",
    "main_df.drop_duplicates(subset=['post_text','time','hashtags'],inplace=True)\n",
    "main_df['hashtags'] = main_df['hashtags'].apply(ast.literal_eval)\n",
    "main_df['post_text'] = main_df['post_text'].apply(ast.literal_eval)\n",
    "main_df['what_on_photo'] = main_df['what_on_photo'].apply(ast.literal_eval)\n",
    "main_df['emoji_post_text'] = main_df['emoji_post_text'].apply(ast.literal_eval)\n",
    "main_df['emoji_comments'] = main_df['emoji_comments'].apply(ast.literal_eval)\n",
    "main_df['profile_categories'] = main_df['profile_categories'].apply(ast.literal_eval)\n",
    "main_df['time'] = pd.to_datetime(main_df['time'])"
   ]
  },
  {
   "cell_type": "code",
   "execution_count": 4,
   "metadata": {},
   "outputs": [
    {
     "data": {
      "text/plain": [
       "(163662, 42)"
      ]
     },
     "execution_count": 4,
     "metadata": {},
     "output_type": "execute_result"
    }
   ],
   "source": [
    "main_df.shape"
   ]
  },
  {
   "cell_type": "markdown",
   "metadata": {},
   "source": [
    "## Modeling"
   ]
  },
  {
   "cell_type": "code",
   "execution_count": 5,
   "metadata": {},
   "outputs": [],
   "source": [
    "# Making a copy of main_df to prevent changes in main_df\n",
    "df = main_df.copy()"
   ]
  },
  {
   "cell_type": "code",
   "execution_count": 6,
   "metadata": {},
   "outputs": [],
   "source": [
    "# Make dummy columns from categorical variables\n",
    "df = pd.get_dummies(df,columns=['post_type'])"
   ]
  },
  {
   "cell_type": "code",
   "execution_count": 7,
   "metadata": {},
   "outputs": [],
   "source": [
    "# Creating additional feature\n",
    "df['comment_engagement_profile'] = df['mean_comments'] / df['num_followers']"
   ]
  },
  {
   "cell_type": "code",
   "execution_count": 8,
   "metadata": {},
   "outputs": [
    {
     "data": {
      "text/plain": [
       "Index(['post_text', 'location', 'num_likes_post', 'num_views', 'time',\n",
       "       'profile_name', 'num_posts', 'full_name_profile', 'profile_description',\n",
       "       'personal_link', 'num_followers', 'what_on_photo', 'photo_id',\n",
       "       'num_comments', 'country', 'main_prof_category', 'female', 'male',\n",
       "       'profile_categories', 'comments', 'influencer_type',\n",
       "       'hashtags_post_text', 'hashtags_comments', 'hashtags',\n",
       "       'emoji_post_text', 'emoji_comments', 'len_post_text',\n",
       "       'num_of_unique_hashtags', 'number_rows', 'mean_likes', 'post_frequency',\n",
       "       'comments_engagement', 'like_engagement', 'polarity_post_txt',\n",
       "       'subjectivity_post_txt', 'topic', 'keywords', 'hour', 'weekaday',\n",
       "       'weekday', 'mean_comments', 'post_type_carousel', 'post_type_image',\n",
       "       'post_type_video', 'comment_engagement_profile'],\n",
       "      dtype='object')"
      ]
     },
     "execution_count": 8,
     "metadata": {},
     "output_type": "execute_result"
    }
   ],
   "source": [
    "df.columns"
   ]
  },
  {
   "cell_type": "markdown",
   "metadata": {},
   "source": [
    "#### Model for Mega"
   ]
  },
  {
   "cell_type": "code",
   "execution_count": 8,
   "metadata": {},
   "outputs": [
    {
     "data": {
      "text/plain": [
       "(51771, 45)"
      ]
     },
     "execution_count": 8,
     "metadata": {},
     "output_type": "execute_result"
    }
   ],
   "source": [
    "# Taking a part of df with only Mega influencers to test models\n",
    "df_macro = df[df['influencer_type'].isin(['Mega'])]\n",
    "df_macro.shape"
   ]
  },
  {
   "cell_type": "markdown",
   "metadata": {},
   "source": [
    "Tries different features and came up with these."
   ]
  },
  {
   "cell_type": "code",
   "execution_count": 9,
   "metadata": {},
   "outputs": [],
   "source": [
    "features = ['num_followers','mean_likes','post_type_carousel','comment_engagement_profile',\n",
    "           'len_post_text','weekday','hour','polarity_post_txt','subjectivity_post_txt']\n",
    "X = df_macro[features]\n",
    "y = df_macro['num_likes_post']"
   ]
  },
  {
   "cell_type": "code",
   "execution_count": 10,
   "metadata": {},
   "outputs": [],
   "source": [
    "# splitting to train and test \n",
    "X_train,X_test,y_train,y_test = train_test_split(X,y,test_size=0.3,random_state=42)"
   ]
  },
  {
   "cell_type": "code",
   "execution_count": 11,
   "metadata": {},
   "outputs": [
    {
     "name": "stdout",
     "output_type": "stream",
     "text": [
      "(36239, 9)\n",
      "(36239,)\n",
      "(15532, 9)\n",
      "(15532,)\n"
     ]
    }
   ],
   "source": [
    "# checking dimentionality\n",
    "print(X_train.shape)\n",
    "print(y_train.shape)\n",
    "print(X_test.shape)\n",
    "print(y_test.shape)"
   ]
  },
  {
   "cell_type": "code",
   "execution_count": 13,
   "metadata": {},
   "outputs": [],
   "source": [
    "# Creating a function for metrics\n",
    "def metrics_function(y,predictions,num_features=len(X_train.columns)):\n",
    "    '''\n",
    "    Calculate:\n",
    "    Mean Absolute Error,\n",
    "    Residual Sum of Squares,\n",
    "    Root Mean Squared Error,\n",
    "    Coefficient of Determination,\n",
    "    Adjusted R2\n",
    "    \n",
    "    Print the values of metrics\n",
    "    \n",
    "    Takes:\n",
    "    y - true target values\n",
    "    predictions - predicted values\n",
    "    num_features - number of features\n",
    "    \n",
    "    Returns:\n",
    "    Nothing\n",
    "    '''\n",
    "    # Mean Absolute Error\n",
    "    mae = mean_absolute_error(y,predictions)\n",
    "    # Residual Sum of Squares\n",
    "    rss = ((y-predictions)**2).sum()\n",
    "    # Mean Squared Error\n",
    "    mse = mean_squared_error(y,predictions)\n",
    "    # Root Mean Squared Error\n",
    "    rmse = mse**0.5\n",
    "    # Coefficient of Determination\n",
    "    r = r2_score(y,predictions)\n",
    "    # Adjusted R2\n",
    "    def r2_adj(y,predictions,num_features):\n",
    "        r_adj = 1 - (1-r)*(len(y)-1)/(len(y)-num_features-1)\n",
    "        return r_adj\n",
    "    r_adj = r2_adj(y,predictions,num_features)\n",
    "    print(f'Mean Absolute Error: {mae}')\n",
    "    print(f'Residual Sum of Squares: {rss}')\n",
    "    print(f'Mean Squared Error: {mse}')\n",
    "    print(f'Root Mean Squared Error: {rmse}')\n",
    "    print(f'Coefficient of Determination R2: {r}')\n",
    "    print(f'Adjusted R2: {r_adj}')"
   ]
  },
  {
   "cell_type": "markdown",
   "metadata": {},
   "source": [
    "### Baseline models"
   ]
  },
  {
   "cell_type": "code",
   "execution_count": 14,
   "metadata": {},
   "outputs": [
    {
     "name": "stdout",
     "output_type": "stream",
     "text": [
      "Mean Absolute Error: 140305.3112469524\n",
      "Residual Sum of Squares: 1086749204065959.2\n",
      "Mean Squared Error: 69968400982.87144\n",
      "Root Mean Squared Error: 264515.4078364273\n",
      "Coefficient of Determination R2: 0.0\n",
      "Adjusted R2: -0.0005798221878623444\n"
     ]
    }
   ],
   "source": [
    "# Baseline model - mean of y_test\n",
    "y_hat = [np.mean(y_test) for i in range(len(y_test))]\n",
    "metrics_function(y_test,y_hat)"
   ]
  },
  {
   "cell_type": "code",
   "execution_count": 16,
   "metadata": {},
   "outputs": [
    {
     "name": "stdout",
     "output_type": "stream",
     "text": [
      "Coefficients [-4.31577213e+03  2.27253817e+05  1.21985333e+04  9.39365839e+02\n",
      " -3.91321506e+03  1.45395813e+03  8.67887143e+02 -6.58305721e+02\n",
      "  1.09098288e+02]\n",
      "Score: 0.7494222297129655\n",
      "Mean Absolute Error: 54751.09107368334\n",
      "Residual Sum of Squares: 272315192416057.5\n",
      "Mean Squared Error: 17532525908.83708\n",
      "Root Mean Squared Error: 132410.4448630737\n",
      "Coefficient of Determination R2: 0.7494222297129656\n",
      "Adjusted R2: 0.749276939161968\n"
     ]
    }
   ],
   "source": [
    "# Using LinearRegression model\n",
    "\n",
    "# Standardize the features\n",
    "ss = StandardScaler()\n",
    "X_train_sc = ss.fit_transform(X_train)\n",
    "X_test_sc = ss.transform(X_test)\n",
    "\n",
    "# Fitting linear regression\n",
    "lr = LinearRegression()\n",
    "lr.fit(X_train_sc,y_train)\n",
    "print(\"Coefficients\", lr.coef_)\n",
    "predictions  =  lr.predict(X_test_sc)\n",
    "print('Score:',lr.score(X_test_sc,y_test))\n",
    "metrics_function(y_test,predictions)"
   ]
  },
  {
   "cell_type": "code",
   "execution_count": 17,
   "metadata": {},
   "outputs": [
    {
     "name": "stdout",
     "output_type": "stream",
     "text": [
      "[01:55:45] WARNING: src/objective/regression_obj.cu:152: reg:linear is now deprecated in favor of reg:squarederror.\n",
      "Mean Absolute Error: 53117.347273157335\n",
      "Residual Sum of Squares: 244673297776640.0\n",
      "Mean Squared Error: 15752851821.06998\n",
      "Root Mean Squared Error: 125510.36539294267\n",
      "Coefficient of Determination R2: 0.77485762716049\n",
      "Adjusted R2: 0.7747270846172897\n"
     ]
    }
   ],
   "source": [
    "# Using XGBoost model\n",
    "import xgboost as xgb\n",
    "model_xgb = xgb.XGBRegressor(learning_rate=0.015, \n",
    "                             max_depth=3,\n",
    "                             min_child_weight=5, \n",
    "                             n_estimators=513, \n",
    "                             subsample=0.3,\n",
    "                             booster='gbtree',\n",
    "                             n_jobs=-1)\n",
    "model_xgb.fit(X_train, y_train)\n",
    "y_pred = model_xgb.predict(X_test)\n",
    "metrics_function(y_test,y_pred)"
   ]
  },
  {
   "cell_type": "code",
   "execution_count": 18,
   "metadata": {},
   "outputs": [
    {
     "data": {
      "text/plain": [
       "0.7949726607835249"
      ]
     },
     "execution_count": 18,
     "metadata": {},
     "output_type": "execute_result"
    }
   ],
   "source": [
    "# chqck overfit\n",
    "model_xgb.score(X_train,y_train)"
   ]
  },
  {
   "cell_type": "code",
   "execution_count": 20,
   "metadata": {},
   "outputs": [
    {
     "name": "stdout",
     "output_type": "stream",
     "text": [
      "[01:56:39] WARNING: src/objective/regression_obj.cu:152: reg:linear is now deprecated in favor of reg:squarederror.\n",
      "Mean Absolute Error: 52986.73353577225\n",
      "Residual Sum of Squares: 249671881701625.75\n",
      "Mean Squared Error: 16074676905.847652\n",
      "Root Mean Squared Error: 126785.94916570075\n",
      "Coefficient of Determination R2: 0.7702580496332508\n",
      "Adjusted R2: 0.7701248401529455\n"
     ]
    }
   ],
   "source": [
    "# Using Voring regressor modelwith xgb and \n",
    "import xgboost as xgb\n",
    "from sklearn.ensemble import VotingRegressor\n",
    "\n",
    "# Training classifiers\n",
    "xgb = xgb.XGBRegressor(learning_rate=0.015, \n",
    "                             max_depth=3,\n",
    "                             min_child_weight=5, \n",
    "                             n_estimators=513, \n",
    "                             subsample=0.3,\n",
    "                             booster='gbtree',\n",
    "                             n_jobs=-1)\n",
    "\n",
    "lr = LinearRegression(normalize=True)\n",
    "vreg = VotingRegressor(estimators=[('xgb', xgb), ('lr', lr)],weights = [0.6,0.4])\n",
    "vreg.fit(X_train, y_train)\n",
    "y_pred_vote = vreg.predict(X_test)\n",
    "metrics_function(y_test,y_pred_vote,len(X_train.columns))"
   ]
  },
  {
   "cell_type": "code",
   "execution_count": 21,
   "metadata": {},
   "outputs": [
    {
     "data": {
      "text/plain": [
       "0.7811300479230265"
      ]
     },
     "execution_count": 21,
     "metadata": {},
     "output_type": "execute_result"
    }
   ],
   "source": [
    "# chqck overfit\n",
    "vreg.score(X_train,y_train)"
   ]
  },
  {
   "cell_type": "code",
   "execution_count": 80,
   "metadata": {},
   "outputs": [
    {
     "name": "stdout",
     "output_type": "stream",
     "text": [
      "Lasso: 0.606320 (-97429.504312)\n",
      "ElasticNet: 0.539081 (-113901.306899)\n",
      "KNeighborsRegressor: 0.513675 (-119310.949908)\n",
      "DecisionTreeRegressor: 0.021848 (-232880.624312)\n",
      "GradientBoostingRegressor: 0.585603 (-102404.714770)\n"
     ]
    }
   ],
   "source": [
    "# Trying other different models\n",
    "from sklearn.pipeline import Pipeline\n",
    "from sklearn.model_selection import KFold,cross_validate\n",
    "\n",
    "pipelines = []\n",
    "pipelines.append(('Lasso', Pipeline([('Scaler', StandardScaler()),('LASSO', Lasso())])))\n",
    "pipelines.append(('ElasticNet', Pipeline([('Scaler', StandardScaler()),('EN', ElasticNet())])))\n",
    "pipelines.append(('KNeighborsRegressor', Pipeline([('Scaler', StandardScaler()),('KNN', KNeighborsRegressor())])))\n",
    "pipelines.append(('DecisionTreeRegressor', Pipeline([('Scaler', StandardScaler()),('CART', DecisionTreeRegressor())])))\n",
    "pipelines.append(('GradientBoostingRegressor', Pipeline([('Scaler', StandardScaler()),('GBM', GradientBoostingRegressor())])))\n",
    "\n",
    "results = []\n",
    "names = []\n",
    "for name, model in pipelines:\n",
    "    kfold = KFold(n_splits=10)\n",
    "    cv_results = cross_validate(model, X_train, y_train, cv=kfold, scoring=['r2','neg_mean_squared_error'])\n",
    "    results.append(cv_results)\n",
    "    names.append(name)\n",
    "    msg = \"%s: %f (%f)\" % (name, cv_results['test_r2'].mean(), cv_results['test_neg_mean_squared_error'].mean())\n",
    "    print(msg)"
   ]
  },
  {
   "cell_type": "code",
   "execution_count": 30,
   "metadata": {
    "scrolled": true
   },
   "outputs": [
    {
     "name": "stdout",
     "output_type": "stream",
     "text": [
      "Epoch 1/500\n",
      "71/71 [==============================] - 0s 5ms/step - loss: 86686408704.0000 - mse: 86686408704.0000 - val_loss: 88601149440.0000 - val_mse: 88601149440.0000\n",
      "Epoch 2/500\n",
      "71/71 [==============================] - 0s 5ms/step - loss: 86677766144.0000 - mse: 86677766144.0000 - val_loss: 88563900416.0000 - val_mse: 88563900416.0000\n",
      "Epoch 3/500\n",
      "71/71 [==============================] - 0s 4ms/step - loss: 86514933760.0000 - mse: 86514933760.0000 - val_loss: 88101289984.0000 - val_mse: 88101289984.0000\n",
      "Epoch 4/500\n",
      "71/71 [==============================] - 0s 4ms/step - loss: 85380939776.0000 - mse: 85380939776.0000 - val_loss: 85669191680.0000 - val_mse: 85669191680.0000\n",
      "Epoch 5/500\n",
      "71/71 [==============================] - 0s 4ms/step - loss: 81360396288.0000 - mse: 81360396288.0000 - val_loss: 78534279168.0000 - val_mse: 78534279168.0000\n",
      "Epoch 6/500\n",
      "71/71 [==============================] - 0s 5ms/step - loss: 71411163136.0000 - mse: 71411163136.0000 - val_loss: 64035053568.0000 - val_mse: 64035053568.0000\n",
      "Epoch 7/500\n",
      "71/71 [==============================] - 0s 4ms/step - loss: 55858397184.0000 - mse: 55858397184.0000 - val_loss: 46288187392.0000 - val_mse: 46288187392.0000\n",
      "Epoch 8/500\n",
      "71/71 [==============================] - 0s 4ms/step - loss: 42769981440.0000 - mse: 42769981440.0000 - val_loss: 35793633280.0000 - val_mse: 35793633280.0000\n",
      "Epoch 9/500\n",
      "71/71 [==============================] - 0s 4ms/step - loss: 36316590080.0000 - mse: 36316590080.0000 - val_loss: 31448705024.0000 - val_mse: 31448705024.0000\n",
      "Epoch 10/500\n",
      "71/71 [==============================] - 0s 4ms/step - loss: 33154504704.0000 - mse: 33154504704.0000 - val_loss: 28973703168.0000 - val_mse: 28973703168.0000\n",
      "Epoch 11/500\n",
      "71/71 [==============================] - 0s 4ms/step - loss: 30984753152.0000 - mse: 30984753152.0000 - val_loss: 27135035392.0000 - val_mse: 27135035392.0000\n",
      "Epoch 12/500\n",
      "71/71 [==============================] - 0s 3ms/step - loss: 29262413824.0000 - mse: 29262413824.0000 - val_loss: 25676965888.0000 - val_mse: 25676965888.0000\n",
      "Epoch 13/500\n",
      "71/71 [==============================] - 0s 5ms/step - loss: 27785185280.0000 - mse: 27785185280.0000 - val_loss: 24452452352.0000 - val_mse: 24452452352.0000\n",
      "Epoch 14/500\n",
      "71/71 [==============================] - 0s 4ms/step - loss: 26534002688.0000 - mse: 26534002688.0000 - val_loss: 23398174720.0000 - val_mse: 23398174720.0000\n",
      "Epoch 15/500\n",
      "71/71 [==============================] - 0s 4ms/step - loss: 25396983808.0000 - mse: 25396983808.0000 - val_loss: 22510034944.0000 - val_mse: 22510034944.0000\n",
      "Epoch 16/500\n",
      "71/71 [==============================] - 0s 4ms/step - loss: 24408891392.0000 - mse: 24408891392.0000 - val_loss: 21759309824.0000 - val_mse: 21759309824.0000\n",
      "Epoch 17/500\n",
      "71/71 [==============================] - 0s 4ms/step - loss: 23554119680.0000 - mse: 23554119680.0000 - val_loss: 21087531008.0000 - val_mse: 21087531008.0000\n",
      "Epoch 18/500\n",
      "71/71 [==============================] - 0s 4ms/step - loss: 22796351488.0000 - mse: 22796351488.0000 - val_loss: 20509159424.0000 - val_mse: 20509159424.0000\n",
      "Epoch 19/500\n",
      "71/71 [==============================] - 0s 3ms/step - loss: 22105192448.0000 - mse: 22105192448.0000 - val_loss: 20033019904.0000 - val_mse: 20033019904.0000\n",
      "Epoch 20/500\n",
      "71/71 [==============================] - 0s 4ms/step - loss: 21506609152.0000 - mse: 21506609152.0000 - val_loss: 19599779840.0000 - val_mse: 19599779840.0000\n",
      "Epoch 21/500\n",
      "71/71 [==============================] - 0s 4ms/step - loss: 20978149376.0000 - mse: 20978149376.0000 - val_loss: 19294996480.0000 - val_mse: 19294996480.0000\n",
      "Epoch 22/500\n",
      "71/71 [==============================] - 0s 4ms/step - loss: 20515000320.0000 - mse: 20515000320.0000 - val_loss: 18949742592.0000 - val_mse: 18949742592.0000\n",
      "Epoch 23/500\n",
      "71/71 [==============================] - 0s 5ms/step - loss: 20098691072.0000 - mse: 20098691072.0000 - val_loss: 18639558656.0000 - val_mse: 18639558656.0000\n",
      "Epoch 24/500\n",
      "71/71 [==============================] - 0s 5ms/step - loss: 19728168960.0000 - mse: 19728168960.0000 - val_loss: 18466140160.0000 - val_mse: 18466140160.0000\n",
      "Epoch 25/500\n",
      "71/71 [==============================] - 0s 4ms/step - loss: 19403710464.0000 - mse: 19403710464.0000 - val_loss: 18201382912.0000 - val_mse: 18201382912.0000\n",
      "Epoch 26/500\n",
      "71/71 [==============================] - 0s 3ms/step - loss: 19130525696.0000 - mse: 19130525696.0000 - val_loss: 18033364992.0000 - val_mse: 18033364992.0000\n",
      "Epoch 27/500\n",
      "71/71 [==============================] - 0s 4ms/step - loss: 18877954048.0000 - mse: 18877954048.0000 - val_loss: 17942740992.0000 - val_mse: 17942740992.0000\n",
      "Epoch 28/500\n",
      "71/71 [==============================] - 0s 4ms/step - loss: 18673102848.0000 - mse: 18673102848.0000 - val_loss: 17791172608.0000 - val_mse: 17791172608.0000\n",
      "Epoch 29/500\n",
      "71/71 [==============================] - 0s 4ms/step - loss: 18472269824.0000 - mse: 18472269824.0000 - val_loss: 17738827776.0000 - val_mse: 17738827776.0000\n",
      "Epoch 30/500\n",
      "71/71 [==============================] - 0s 4ms/step - loss: 18312067072.0000 - mse: 18312067072.0000 - val_loss: 17685520384.0000 - val_mse: 17685520384.0000\n",
      "Epoch 31/500\n",
      "71/71 [==============================] - 0s 5ms/step - loss: 18191241216.0000 - mse: 18191241216.0000 - val_loss: 17663412224.0000 - val_mse: 17663412224.0000\n",
      "Epoch 32/500\n",
      "71/71 [==============================] - 0s 4ms/step - loss: 18064535552.0000 - mse: 18064535552.0000 - val_loss: 17601472512.0000 - val_mse: 17601472512.0000\n",
      "Epoch 33/500\n",
      "71/71 [==============================] - 0s 5ms/step - loss: 17950279680.0000 - mse: 17950279680.0000 - val_loss: 17494034432.0000 - val_mse: 17494034432.0000\n",
      "Epoch 34/500\n",
      "71/71 [==============================] - 0s 4ms/step - loss: 17876508672.0000 - mse: 17876508672.0000 - val_loss: 17565644800.0000 - val_mse: 17565644800.0000\n",
      "Epoch 35/500\n",
      "71/71 [==============================] - 0s 4ms/step - loss: 17779408896.0000 - mse: 17779408896.0000 - val_loss: 17425715200.0000 - val_mse: 17425715200.0000\n",
      "Epoch 36/500\n",
      "71/71 [==============================] - 0s 4ms/step - loss: 17717217280.0000 - mse: 17717217280.0000 - val_loss: 17396260864.0000 - val_mse: 17396260864.0000\n",
      "Epoch 37/500\n",
      "71/71 [==============================] - 0s 4ms/step - loss: 17653954560.0000 - mse: 17653954560.0000 - val_loss: 17423536128.0000 - val_mse: 17423536128.0000\n",
      "Epoch 38/500\n",
      "71/71 [==============================] - 0s 4ms/step - loss: 17620928512.0000 - mse: 17620928512.0000 - val_loss: 17418024960.0000 - val_mse: 17418024960.0000\n",
      "Epoch 39/500\n",
      "71/71 [==============================] - 0s 5ms/step - loss: 17605730304.0000 - mse: 17605730304.0000 - val_loss: 17487239168.0000 - val_mse: 17487239168.0000\n",
      "Epoch 40/500\n",
      "71/71 [==============================] - 0s 5ms/step - loss: 17558906880.0000 - mse: 17558906880.0000 - val_loss: 17420509184.0000 - val_mse: 17420509184.0000\n",
      "Epoch 41/500\n",
      "71/71 [==============================] - 0s 4ms/step - loss: 17544777728.0000 - mse: 17544777728.0000 - val_loss: 17407537152.0000 - val_mse: 17407537152.0000\n",
      "Epoch 00041: early stopping\n"
     ]
    }
   ],
   "source": [
    "# Neuronal network\n",
    "NN_model = Sequential()\n",
    "X_train_sc = ss.fit_transform(X_train)\n",
    "X_test_sc = ss.transform(X_test)\n",
    "# The Input Layer :\n",
    "NN_model.add(Dense(32, kernel_initializer='normal',input_dim = X_train_sc.shape[1], \n",
    "                   activation='linear'))\n",
    "\n",
    "# The Hidden Layers :\n",
    "NN_model.add(Dense(256, kernel_initializer='normal',activation='relu'))\n",
    "NN_model.add(Dense(9, kernel_initializer='normal',activation='relu'))\n",
    "NN_model.add(Dense(6, kernel_initializer='normal',activation='relu'))\n",
    "\n",
    "# The Output Layer :\n",
    "NN_model.add(Dense(1, kernel_initializer='normal',activation='linear'))\n",
    "\n",
    "# Compile the network :\n",
    "NN_model.compile(loss='mse', optimizer='adam', metrics=['mse'])\n",
    "early_stop = EarlyStopping(monitor='val_loss', min_delta=0, patience=5, verbose=1, mode='auto')\n",
    "\n",
    "history = NN_model.fit(X_train_sc, y_train, epochs=500, \n",
    "                       batch_size=512, validation_data =(X_test_sc,y_test),\n",
    "                       callbacks=[early_stop]\n",
    "                      )\n"
   ]
  },
  {
   "cell_type": "code",
   "execution_count": 31,
   "metadata": {},
   "outputs": [
    {
     "name": "stdout",
     "output_type": "stream",
     "text": [
      "Mean Absolute Error: 54434.60079938764\n",
      "Residual Sum of Squares: 270373845204992.0\n",
      "Mean Squared Error: 17407535797.068974\n",
      "Root Mean Squared Error: 131937.62085572476\n",
      "Coefficient of Determination R2: 0.7512086091358524\n",
      "Adjusted R2: 0.7510643543672803\n"
     ]
    }
   ],
   "source": [
    "neur_predict = NN_model.predict(X_test_sc)\n",
    "metrics_function(y_test,neur_predict.flatten())"
   ]
  },
  {
   "cell_type": "code",
   "execution_count": 32,
   "metadata": {},
   "outputs": [
    {
     "name": "stdout",
     "output_type": "stream",
     "text": [
      "dict_keys(['loss', 'mse', 'val_loss', 'val_mse'])\n"
     ]
    },
    {
     "data": {
      "image/png": "[encoded data removed]",
      "text/plain": [
       "<Figure size 432x288 with 1 Axes>"
      ]
     },
     "metadata": {
      "needs_background": "light"
     },
     "output_type": "display_data"
    }
   ],
   "source": [
    "print(history.history.keys())\n",
    "# \"Loss\"\n",
    "plt.plot(history.history['loss'])\n",
    "plt.plot(history.history['val_loss'])\n",
    "plt.title('model loss')\n",
    "plt.ylabel('loss')\n",
    "plt.xlabel('epoch')\n",
    "plt.legend(['train', 'validation'], loc='upper left')\n",
    "plt.show()"
   ]
  },
  {
   "cell_type": "markdown",
   "metadata": {},
   "source": [
    "For Mega Influencers the best model as a trade of\n",
    "\n",
    "-----------------\n",
    "\n",
    "\n",
    "| Model                     | Adjusted R2 | Root Mean Square Error |\n",
    "| ------------------------- | ----------- | ---------------------- |\n",
    "| Baseline (mean)           | 0           | 264515.4               |\n",
    "| XGBRegressor              | 0.77        | 106187.5               |\n",
    "| LinearRegression          | 0.76        | 112225.9               |\n",
    "| VotingRegressor           | 0.74        | 125721.0               |\n",
    "| Lasso                     | 0.75        | 117056.9               |\n",
    "| ElasticNet                | 0.67        | 134077.4               |\n",
    "| KNeighborsRegressor       | 0.72        | 125036.5               |\n",
    "| DecisionTreeRegressor     | 0.56        | 155622.6               |\n",
    "| GradientBoostingRegressor | 0.78        | 111166.8               |\n",
    "| Neuronal Network          | 0.75        | 131937.6               |\n",
    "\n",
    "\n",
    "Base on the XGBRegressor train R2 score (0.79) we can conclude that model is not over or underfit"
   ]
  },
  {
   "cell_type": "markdown",
   "metadata": {},
   "source": [
    "#### Visualizing results"
   ]
  },
  {
   "cell_type": "code",
   "execution_count": 141,
   "metadata": {},
   "outputs": [
    {
     "data": {
      "text/html": [
       "<div>\n",
       "<style scoped>\n",
       "    .dataframe tbody tr th:only-of-type {\n",
       "        vertical-align: middle;\n",
       "    }\n",
       "\n",
       "    .dataframe tbody tr th {\n",
       "        vertical-align: top;\n",
       "    }\n",
       "\n",
       "    .dataframe thead th {\n",
       "        text-align: right;\n",
       "    }\n",
       "</style>\n",
       "<table border=\"1\" class=\"dataframe\">\n",
       "  <thead>\n",
       "    <tr style=\"text-align: right;\">\n",
       "      <th></th>\n",
       "      <th>pred</th>\n",
       "      <th>true</th>\n",
       "      <th>difference</th>\n",
       "    </tr>\n",
       "  </thead>\n",
       "  <tbody>\n",
       "    <tr>\n",
       "      <th>11500</th>\n",
       "      <td>843680.812500</td>\n",
       "      <td>514131</td>\n",
       "      <td>329549.812500</td>\n",
       "    </tr>\n",
       "    <tr>\n",
       "      <th>29902</th>\n",
       "      <td>86126.273438</td>\n",
       "      <td>73650</td>\n",
       "      <td>12476.273438</td>\n",
       "    </tr>\n",
       "    <tr>\n",
       "      <th>9150</th>\n",
       "      <td>35220.238281</td>\n",
       "      <td>38218</td>\n",
       "      <td>-2997.761719</td>\n",
       "    </tr>\n",
       "    <tr>\n",
       "      <th>34032</th>\n",
       "      <td>109427.703125</td>\n",
       "      <td>140112</td>\n",
       "      <td>-30684.296875</td>\n",
       "    </tr>\n",
       "    <tr>\n",
       "      <th>14823</th>\n",
       "      <td>92347.710938</td>\n",
       "      <td>84571</td>\n",
       "      <td>7776.710938</td>\n",
       "    </tr>\n",
       "    <tr>\n",
       "      <th>...</th>\n",
       "      <td>...</td>\n",
       "      <td>...</td>\n",
       "      <td>...</td>\n",
       "    </tr>\n",
       "    <tr>\n",
       "      <th>122867</th>\n",
       "      <td>15669.453125</td>\n",
       "      <td>2040</td>\n",
       "      <td>13629.453125</td>\n",
       "    </tr>\n",
       "    <tr>\n",
       "      <th>20703</th>\n",
       "      <td>25169.330078</td>\n",
       "      <td>39162</td>\n",
       "      <td>-13992.669922</td>\n",
       "    </tr>\n",
       "    <tr>\n",
       "      <th>48037</th>\n",
       "      <td>211984.093750</td>\n",
       "      <td>459957</td>\n",
       "      <td>-247972.906250</td>\n",
       "    </tr>\n",
       "    <tr>\n",
       "      <th>13151</th>\n",
       "      <td>144911.906250</td>\n",
       "      <td>142556</td>\n",
       "      <td>2355.906250</td>\n",
       "    </tr>\n",
       "    <tr>\n",
       "      <th>56773</th>\n",
       "      <td>20661.085938</td>\n",
       "      <td>23854</td>\n",
       "      <td>-3192.914062</td>\n",
       "    </tr>\n",
       "  </tbody>\n",
       "</table>\n",
       "<p>15532 rows × 3 columns</p>\n",
       "</div>"
      ],
      "text/plain": [
       "                 pred    true     difference\n",
       "11500   843680.812500  514131  329549.812500\n",
       "29902    86126.273438   73650   12476.273438\n",
       "9150     35220.238281   38218   -2997.761719\n",
       "34032   109427.703125  140112  -30684.296875\n",
       "14823    92347.710938   84571    7776.710938\n",
       "...               ...     ...            ...\n",
       "122867   15669.453125    2040   13629.453125\n",
       "20703    25169.330078   39162  -13992.669922\n",
       "48037   211984.093750  459957 -247972.906250\n",
       "13151   144911.906250  142556    2355.906250\n",
       "56773    20661.085938   23854   -3192.914062\n",
       "\n",
       "[15532 rows x 3 columns]"
      ]
     },
     "execution_count": 141,
     "metadata": {},
     "output_type": "execute_result"
    }
   ],
   "source": [
    "# looking visualy for xgboost predictions\n",
    "residuals = pd.DataFrame({'pred':y_pred,'true':y_test})\n",
    "residuals['difference'] = residuals['pred'] - residuals['true']\n",
    "residuals\n",
    "# residuals[residuals['pred']<0]"
   ]
  },
  {
   "cell_type": "code",
   "execution_count": 146,
   "metadata": {},
   "outputs": [
    {
     "data": {
      "image/png": "[encoded data removed]",
      "text/plain": [
       "<Figure size 720x432 with 1 Axes>"
      ]
     },
     "metadata": {
      "needs_background": "light"
     },
     "output_type": "display_data"
    }
   ],
   "source": [
    "# distribution of predicted \n",
    "plt.figure(figsize=(10,6))\n",
    "sns.distplot(residuals['pred'],bins=100,color='orchid',label = 'predicted XGB')\n",
    "sns.distplot(y_pred_vote,bins=100,color='teal',label = 'predicted Voting Regressor')\n",
    "sns.distplot(residuals['true'],bins=100,color='orange',label='true')\n",
    "plt.xlabel('Number of likes')\n",
    "plt.title('Distribution of predicted XGB, predicted Voting Regressor and True values')\n",
    "plt.legend();"
   ]
  },
  {
   "cell_type": "markdown",
   "metadata": {},
   "source": [
    "From the graph above we can see that XGB and True values are closer than Voting Regressor and True values. XGB mostly predict less likes than true values."
   ]
  },
  {
   "cell_type": "code",
   "execution_count": 149,
   "metadata": {},
   "outputs": [
    {
     "data": {
      "image/png": "[encoded data removed]",
      "text/plain": [
       "<Figure size 576x360 with 1 Axes>"
      ]
     },
     "metadata": {
      "needs_background": "light"
     },
     "output_type": "display_data"
    }
   ],
   "source": [
    "# Scatterplot of XGB vs True values\n",
    "plt.figure(figsize=(8,5))\n",
    "plt.scatter(y_test,y_pred,alpha=0.5,c='#65a8a7',label='XGB')\n",
    "plt.title('Predicted number of likes vs true number of likes\\n',fontsize=15)\n",
    "plt.xlabel('True number of likes') \n",
    "plt.ylabel('Predicted number of likes') \n",
    "plt.legend()\n",
    "plt.show()"
   ]
  },
  {
   "cell_type": "markdown",
   "metadata": {},
   "source": [
    "Number of likes above 1_500_000 predicted worse than under 1_500_000."
   ]
  },
  {
   "cell_type": "code",
   "execution_count": 150,
   "metadata": {},
   "outputs": [
    {
     "data": {
      "image/png": "[encoded data removed]",
      "text/plain": [
       "<Figure size 576x576 with 1 Axes>"
      ]
     },
     "metadata": {
      "needs_background": "light"
     },
     "output_type": "display_data"
    }
   ],
   "source": [
    "import xgboost as xgb\n",
    "h = 8\n",
    "w = 8\n",
    "fig, ax = plt.subplots(figsize=(h, w))\n",
    "ax = xgb.plot_importance(model_xgb, importance_type='weight',ax=ax);\n",
    "xgb.plot_importance(model_xgb, importance_type='weight',ax=ax);"
   ]
  },
  {
   "cell_type": "markdown",
   "metadata": {},
   "source": [
    "Mean of likes has the biggest influence on predictions. Number of followers and length of text also have big wait on prediction.\n",
    "\n",
    "Next step is create 4 models, each for one type of influencer."
   ]
  }
 ],
 "metadata": {
  "kernelspec": {
   "display_name": "Python 3",
   "language": "python",
   "name": "python3"
  },
  "language_info": {
   "codemirror_mode": {
    "name": "ipython",
    "version": 3
   },
   "file_extension": ".py",
   "mimetype": "text/x-python",
   "name": "python",
   "nbconvert_exporter": "python",
   "pygments_lexer": "ipython3",
   "version": "3.7.7"
  },
  "varInspector": {
   "cols": {
    "lenName": 16,
    "lenType": 16,
    "lenVar": 40
   },
   "kernels_config": {
    "python": {
     "delete_cmd_postfix": "",
     "delete_cmd_prefix": "del ",
     "library": "var_list.py",
     "varRefreshCmd": "print(var_dic_list())"
    },
    "r": {
     "delete_cmd_postfix": ") ",
     "delete_cmd_prefix": "rm(",
     "library": "var_list.r",
     "varRefreshCmd": "cat(var_dic_list()) "
    }
   },
   "types_to_exclude": [
    "module",
    "function",
    "builtin_function_or_method",
    "instance",
    "_Feature"
   ],
   "window_display": false
  }
 },
 "nbformat": 4,
 "nbformat_minor": 4
}
