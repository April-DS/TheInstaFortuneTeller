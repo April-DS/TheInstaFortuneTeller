{
 "cells": [
  {
   "cell_type": "markdown",
   "metadata": {},
   "source": [
    "## Cleaning and Frature Engineering"
   ]
  },
  {
   "cell_type": "markdown",
   "metadata": {},
   "source": [
    "In this notebook:\n",
    "\n",
    "1. Saved CSV files with information about posts from Instagram were uploaded.\n",
    "2. All CSV files were merged in one main df.\n",
    "3. Data types and missing values were handeld. Some information were extracted. Some information were taken from other sources and inpute to main df.\n",
    "4. Some features were created on profile and post level (such as hour and weekday of publishing, type of influencers, mean number of likes in a profile, subjectivity and polarity of caption of posts).\n",
    "5. Cleaning caption of posts (text under the post) from non-letter characters.\n",
    "6. Topics from topic modeling were added.\n",
    "\n",
    "As a result main_df_clean.csv file were created."
   ]
  },
  {
   "cell_type": "markdown",
   "metadata": {},
   "source": [
    "### Content:\n",
    "- [Uploading datasets](#Uploading-datasets)\n",
    "\t- [Uploading saved all_data file](#Uploading-saved-all_data-file)\n",
    "\t- [Uploading saved main_df_posts file](#Uploading-saved-main_df_posts-file)\n",
    "\t- [Uploading saved main_df_comments file](#Uploading-saved-main_df_comments-file)\n",
    "- [Merging three datasets](#Merging-three-datasets)\n",
    "- [Data Cleaning](#Data-Cleaning)\n",
    "\t- [Data imputation](#Data-imputation)\n",
    "- [Feature creation](#Feature-creation)\n",
    "- [Text preprocessing](#Text-preprocessing)\n",
    "- [Modeled topic addition](#Modeled-topic-addition)"
   ]
  },
  {
   "cell_type": "code",
   "execution_count": 3,
   "metadata": {},
   "outputs": [
    {
     "data": {
      "text/plain": [
       "'Uploading-saved-main_df_comments-file'"
      ]
     },
     "execution_count": 3,
     "metadata": {},
     "output_type": "execute_result"
    }
   ],
   "source": [
    "text = 'Uploading saved main_df_comments file'\n",
    "text.replace(' ','-')"
   ]
  },
  {
   "cell_type": "markdown",
   "metadata": {},
   "source": [
    "Uploading scraped ready to use datasets\n",
    "\n",
    "Cleaning\n",
    "\n",
    "Feature Engineering"
   ]
  },
  {
   "cell_type": "code",
   "execution_count": 1,
   "metadata": {},
   "outputs": [
    {
     "name": "stderr",
     "output_type": "stream",
     "text": [
      "\n",
      "Bad key \"text.kerning_factor\" on line 4 in\n",
      "C:\\Users\\anpej\\Anaconda3\\lib\\site-packages\\matplotlib\\mpl-data\\stylelib\\_classic_test_patch.mplstyle.\n",
      "You probably need to get an updated matplotlibrc file from\n",
      "https://github.com/matplotlib/matplotlib/blob/v3.1.3/matplotlibrc.template\n",
      "or from the matplotlib source distribution\n"
     ]
    }
   ],
   "source": [
    "import pandas as pd\n",
    "import numpy as np\n",
    "import matplotlib.pyplot as plt\n",
    "import seaborn as sns\n",
    "from datetime import datetime as dt\n",
    "import math\n",
    "\n",
    "from bs4 import BeautifulSoup\n",
    "import re\n",
    "\n",
    "\n",
    "# Gensim\n",
    "import gensim, spacy\n",
    "from gensim.utils import lemmatize, simple_preprocess\n",
    "from nltk.tokenize import RegexpTokenizer\n",
    "\n",
    "# # NLTK Stop words\n",
    "from nltk.corpus import stopwords\n",
    "stop_words = stopwords.words('english')\n",
    "stop_words.extend(['from', 'subject', 're', 'edu', 'use', 'not', 'would', 'say', 'night', 'first', 'soon',\n",
    "                   'could', '_', 'be', 'know', 'good', 'go', 'get', 'do', 'done', \n",
    "                   'try', 'many', 'some', 'nice', 'thank', 'think', 'see', 'rather', \n",
    "                   'easy', 'easily', 'lot', 'lack', 'make', 'want', 'seem', 'run', \n",
    "                   'need', 'even', 'right', 'line', 'even', 'also', 'may', 'take', 'come',\n",
    "                  'day', 'week', 'time', 'people', 'much', 'always', 'look','new' , 'year', 'last','none',\n",
    "                  \"must\", \"tell\", \"ask\", \"text\", \"full\", \"back\", \"wait\", \"big\", \"soon\", \"keep\", \"really\", \n",
    "                   \"way\", \"still\", \"person\", \"stand\", \"today\", \"sit\", \"minute\", 'simply', 's'])\n",
    "\n",
    "import emoji\n",
    "from textblob import TextBlob"
   ]
  },
  {
   "cell_type": "markdown",
   "metadata": {},
   "source": [
    "## Uploading datasets"
   ]
  },
  {
   "cell_type": "markdown",
   "metadata": {},
   "source": [
    "### Uploading saved all_data file\n",
    "\n",
    "The dataset containce information about profiles from [additional source]( https://starngage.com/app/us/influencer) (not from instagram directly)."
   ]
  },
  {
   "cell_type": "code",
   "execution_count": 2,
   "metadata": {},
   "outputs": [],
   "source": [
    "# uploading dataset \n",
    "countries_info = pd.read_csv('./datasets/all_data.csv')"
   ]
  },
  {
   "cell_type": "code",
   "execution_count": 3,
   "metadata": {},
   "outputs": [
    {
     "data": {
      "text/plain": [
       "(4013, 10)"
      ]
     },
     "execution_count": 3,
     "metadata": {},
     "output_type": "execute_result"
    }
   ],
   "source": [
    "# looking foe shape\n",
    "countries_info.shape"
   ]
  },
  {
   "cell_type": "code",
   "execution_count": 4,
   "metadata": {},
   "outputs": [],
   "source": [
    "# Dropping duplicates\n",
    "countries_info.drop_duplicates(inplace=True)"
   ]
  },
  {
   "cell_type": "code",
   "execution_count": 5,
   "metadata": {},
   "outputs": [
    {
     "data": {
      "text/plain": [
       "Country           0\n",
       "Account           0\n",
       "Category          0\n",
       "Free_Promotion    0\n",
       "Paid_Promotion    0\n",
       "Follower_count    0\n",
       "Post_count        0\n",
       "Female            0\n",
       "Male              0\n",
       "Text              0\n",
       "dtype: int64"
      ]
     },
     "execution_count": 5,
     "metadata": {},
     "output_type": "execute_result"
    }
   ],
   "source": [
    "# looking for missing values\n",
    "countries_info.isnull().sum()"
   ]
  },
  {
   "cell_type": "code",
   "execution_count": 6,
   "metadata": {},
   "outputs": [],
   "source": [
    "# renaming columns to lower case\n",
    "countries_info.columns = [i.lower()for i in countries_info.columns]"
   ]
  },
  {
   "cell_type": "markdown",
   "metadata": {},
   "source": [
    "#### Working with wrong types of data and unless infomation."
   ]
  },
  {
   "cell_type": "code",
   "execution_count": 7,
   "metadata": {},
   "outputs": [],
   "source": [
    "# account name\n",
    "countries_info['account'] = countries_info['account'].map(lambda x:\n",
    "                                                x.replace(\"@\",\"\"))\n",
    "# persantage of female/male following the account\n",
    "countries_info['female'] = countries_info['female'].map(lambda x:\n",
    "                                                float(x.replace(\"%\",\"\")))\n",
    "countries_info['male'] = countries_info['male'].map(lambda x:\n",
    "                                                float(x.replace(\"%\",\"\")))\n",
    "# take list of categories from descriptions\n",
    "countries_info['text'] = countries_info['text'].map(lambda x:\n",
    "                            x.split(\"posting about \")[-1].replace(\".\",\"\").lower().split(','))\n",
    "# converting srt to int\n",
    "countries_info['follower_count'] = countries_info['follower_count'].map(lambda x:\n",
    "                                                int(x.replace(\",\",\"\")))\n",
    "countries_info['post_count'] = countries_info['post_count'].map(lambda x:\n",
    "                                                int(x.replace(\",\",\"\")))"
   ]
  },
  {
   "cell_type": "code",
   "execution_count": 8,
   "metadata": {},
   "outputs": [],
   "source": [
    "# renaming columns and drop unwanted\n",
    "countries_info.rename(columns={'text':'profile_categories',\n",
    "                              'category':'main_prof_category'},inplace=True)\n",
    "countries_info.drop(columns=['paid_promotion','free_promotion'],inplace=True)"
   ]
  },
  {
   "cell_type": "code",
   "execution_count": 9,
   "metadata": {},
   "outputs": [
    {
     "data": {
      "text/html": [
       "<div>\n",
       "<style scoped>\n",
       "    .dataframe tbody tr th:only-of-type {\n",
       "        vertical-align: middle;\n",
       "    }\n",
       "\n",
       "    .dataframe tbody tr th {\n",
       "        vertical-align: top;\n",
       "    }\n",
       "\n",
       "    .dataframe thead th {\n",
       "        text-align: right;\n",
       "    }\n",
       "</style>\n",
       "<table border=\"1\" class=\"dataframe\">\n",
       "  <thead>\n",
       "    <tr style=\"text-align: right;\">\n",
       "      <th></th>\n",
       "      <th>country</th>\n",
       "      <th>account</th>\n",
       "      <th>main_prof_category</th>\n",
       "      <th>follower_count</th>\n",
       "      <th>post_count</th>\n",
       "      <th>female</th>\n",
       "      <th>male</th>\n",
       "      <th>profile_categories</th>\n",
       "    </tr>\n",
       "  </thead>\n",
       "  <tbody>\n",
       "    <tr>\n",
       "      <th>0</th>\n",
       "      <td>United States</td>\n",
       "      <td>natgeo</td>\n",
       "      <td>Publishers</td>\n",
       "      <td>138202795</td>\n",
       "      <td>22841</td>\n",
       "      <td>51.2</td>\n",
       "      <td>48.8</td>\n",
       "      <td>[photography,  travel,  nature]</td>\n",
       "    </tr>\n",
       "    <tr>\n",
       "      <th>1</th>\n",
       "      <td>United States</td>\n",
       "      <td>jlo</td>\n",
       "      <td>Creators &amp; Celebrities</td>\n",
       "      <td>123230943</td>\n",
       "      <td>2860</td>\n",
       "      <td>57.0</td>\n",
       "      <td>43.0</td>\n",
       "      <td>[modeling,  music,  singer]</td>\n",
       "    </tr>\n",
       "    <tr>\n",
       "      <th>2</th>\n",
       "      <td>United States</td>\n",
       "      <td>katyperry</td>\n",
       "      <td>Creators &amp; Celebrities</td>\n",
       "      <td>98782627</td>\n",
       "      <td>1543</td>\n",
       "      <td>44.1</td>\n",
       "      <td>55.9</td>\n",
       "      <td>[singer]</td>\n",
       "    </tr>\n",
       "  </tbody>\n",
       "</table>\n",
       "</div>"
      ],
      "text/plain": [
       "         country    account      main_prof_category  follower_count  \\\n",
       "0  United States     natgeo              Publishers       138202795   \n",
       "1  United States        jlo  Creators & Celebrities       123230943   \n",
       "2  United States  katyperry  Creators & Celebrities        98782627   \n",
       "\n",
       "   post_count  female  male               profile_categories  \n",
       "0       22841    51.2  48.8  [photography,  travel,  nature]  \n",
       "1        2860    57.0  43.0      [modeling,  music,  singer]  \n",
       "2        1543    44.1  55.9                         [singer]  "
      ]
     },
     "execution_count": 9,
     "metadata": {},
     "output_type": "execute_result"
    }
   ],
   "source": [
    "countries_info.head(3)"
   ]
  },
  {
   "cell_type": "markdown",
   "metadata": {},
   "source": [
    "### Uploading saved main_df_posts file\n",
    "The information was scraped from instagram using Octoparse."
   ]
  },
  {
   "cell_type": "markdown",
   "metadata": {},
   "source": [
    "Deleting unwanted columns and renaming remained columns."
   ]
  },
  {
   "cell_type": "code",
   "execution_count": 10,
   "metadata": {},
   "outputs": [],
   "source": [
    "# opening saved df and make column names lower case\n",
    "main_df_posts = pd.read_csv('./datasets/main_df_posts.csv')\n",
    "main_df_posts.columns = [col.lower() for col in main_df_posts.columns]\n",
    "main_df_posts.drop(columns=['datesing'],inplace=True)\n",
    "main_df_posts.rename(columns={'title':'post_text', 'titlesing':'text2', 'alt1':'what_on_photo', \n",
    "        'locsing':'location', 'likesing':'num_likes_post',\n",
    "       'viewsing':'num_views', 'timesoing':'time', 'profile':'profile_name', 'posts':'num_posts', \n",
    "        'name':'full_name_profile', 'description':'profile_description',\n",
    "       'link':'personal_link','text6':'comment6', 'text9':'comment8',\n",
    "       'text11':'comment10', 'count_comm':'num_followers', \n",
    "        'alt3':'what_on_photo3', 'alt2':'what_on_photo2', 'carousel':'is_carousel'},inplace=True)"
   ]
  },
  {
   "cell_type": "code",
   "execution_count": 11,
   "metadata": {},
   "outputs": [],
   "source": [
    "# Exctracting post's ids for future merging with other information from json files\n",
    "main_df_posts['photo_id'] = main_df_posts['page_url1'].map(lambda x: x.split('/')[-2])\n",
    "main_df_posts.drop(columns=['page_url1'],inplace=True)"
   ]
  },
  {
   "cell_type": "code",
   "execution_count": 12,
   "metadata": {},
   "outputs": [
    {
     "data": {
      "text/html": [
       "<div>\n",
       "<style scoped>\n",
       "    .dataframe tbody tr th:only-of-type {\n",
       "        vertical-align: middle;\n",
       "    }\n",
       "\n",
       "    .dataframe tbody tr th {\n",
       "        vertical-align: top;\n",
       "    }\n",
       "\n",
       "    .dataframe thead th {\n",
       "        text-align: right;\n",
       "    }\n",
       "</style>\n",
       "<table border=\"1\" class=\"dataframe\">\n",
       "  <thead>\n",
       "    <tr style=\"text-align: right;\">\n",
       "      <th></th>\n",
       "      <th>post_text</th>\n",
       "      <th>text2</th>\n",
       "      <th>what_on_photo</th>\n",
       "      <th>location</th>\n",
       "      <th>num_likes_post</th>\n",
       "      <th>num_views</th>\n",
       "      <th>time</th>\n",
       "      <th>profile_name</th>\n",
       "      <th>num_posts</th>\n",
       "      <th>full_name_profile</th>\n",
       "      <th>...</th>\n",
       "      <th>comment9</th>\n",
       "      <th>comment8</th>\n",
       "      <th>comment11</th>\n",
       "      <th>comment10</th>\n",
       "      <th>comment12</th>\n",
       "      <th>num_followers</th>\n",
       "      <th>what_on_photo3</th>\n",
       "      <th>what_on_photo2</th>\n",
       "      <th>is_carousel</th>\n",
       "      <th>photo_id</th>\n",
       "    </tr>\n",
       "  </thead>\n",
       "  <tbody>\n",
       "    <tr>\n",
       "      <th>0</th>\n",
       "      <td>Photo by Michaela Skovranova @mishkusk | An ic...</td>\n",
       "      <td>NaN</td>\n",
       "      <td>&lt;img alt=\"Photo by National Geographic on May ...</td>\n",
       "      <td>NaN</td>\n",
       "      <td>86,864 likes</td>\n",
       "      <td>NaN</td>\n",
       "      <td>&lt;time class=\"_1o9PC Nzb55\" datetime=\"2020-05-2...</td>\n",
       "      <td>natgeo</td>\n",
       "      <td>22,741 posts</td>\n",
       "      <td>National Geographic</td>\n",
       "      <td>...</td>\n",
       "      <td>Why must we ruin what is given to us 😢 corona ...</td>\n",
       "      <td>💗</td>\n",
       "      <td>🔥🔥</td>\n",
       "      <td>ٰ</td>\n",
       "      <td>🔥👌</td>\n",
       "      <td>137,086,411</td>\n",
       "      <td>NaN</td>\n",
       "      <td>NaN</td>\n",
       "      <td>NaN</td>\n",
       "      <td>CAbg0DGF4vT</td>\n",
       "    </tr>\n",
       "    <tr>\n",
       "      <th>1</th>\n",
       "      <td>Photo by Ivan Kashinsky @ivankphoto | \"As craz...</td>\n",
       "      <td>NaN</td>\n",
       "      <td>&lt;img alt=\"Photo by National Geographic on May ...</td>\n",
       "      <td>NaN</td>\n",
       "      <td>176,242 likes</td>\n",
       "      <td>NaN</td>\n",
       "      <td>&lt;time class=\"_1o9PC Nzb55\" datetime=\"2020-05-2...</td>\n",
       "      <td>natgeo</td>\n",
       "      <td>22,741 posts</td>\n",
       "      <td>National Geographic</td>\n",
       "      <td>...</td>\n",
       "      <td>At least the view of the sea is pleasing</td>\n",
       "      <td>This pic is corona virus</td>\n",
       "      <td>What?????!!!</td>\n",
       "      <td>They left open beaches to drive to a closed on...</td>\n",
       "      <td>Hello</td>\n",
       "      <td>137,086,409</td>\n",
       "      <td>NaN</td>\n",
       "      <td>NaN</td>\n",
       "      <td>NaN</td>\n",
       "      <td>CAbPzJiM9R9</td>\n",
       "    </tr>\n",
       "  </tbody>\n",
       "</table>\n",
       "<p>2 rows × 29 columns</p>\n",
       "</div>"
      ],
      "text/plain": [
       "                                           post_text text2  \\\n",
       "0  Photo by Michaela Skovranova @mishkusk | An ic...   NaN   \n",
       "1  Photo by Ivan Kashinsky @ivankphoto | \"As craz...   NaN   \n",
       "\n",
       "                                       what_on_photo location num_likes_post  \\\n",
       "0  <img alt=\"Photo by National Geographic on May ...      NaN   86,864 likes   \n",
       "1  <img alt=\"Photo by National Geographic on May ...      NaN  176,242 likes   \n",
       "\n",
       "  num_views                                               time profile_name  \\\n",
       "0       NaN  <time class=\"_1o9PC Nzb55\" datetime=\"2020-05-2...       natgeo   \n",
       "1       NaN  <time class=\"_1o9PC Nzb55\" datetime=\"2020-05-2...       natgeo   \n",
       "\n",
       "      num_posts    full_name_profile  ...  \\\n",
       "0  22,741 posts  National Geographic  ...   \n",
       "1  22,741 posts  National Geographic  ...   \n",
       "\n",
       "                                            comment9  \\\n",
       "0  Why must we ruin what is given to us 😢 corona ...   \n",
       "1           At least the view of the sea is pleasing   \n",
       "\n",
       "                   comment8     comment11  \\\n",
       "0                         💗            🔥🔥   \n",
       "1  This pic is corona virus  What?????!!!   \n",
       "\n",
       "                                           comment10 comment12 num_followers  \\\n",
       "0                                                  ٰ        🔥👌   137,086,411   \n",
       "1  They left open beaches to drive to a closed on...     Hello   137,086,409   \n",
       "\n",
       "  what_on_photo3 what_on_photo2 is_carousel     photo_id  \n",
       "0            NaN            NaN         NaN  CAbg0DGF4vT  \n",
       "1            NaN            NaN         NaN  CAbPzJiM9R9  \n",
       "\n",
       "[2 rows x 29 columns]"
      ]
     },
     "execution_count": 12,
     "metadata": {},
     "output_type": "execute_result"
    }
   ],
   "source": [
    "main_df_posts.head(2)"
   ]
  },
  {
   "cell_type": "code",
   "execution_count": 13,
   "metadata": {},
   "outputs": [
    {
     "data": {
      "text/plain": [
       "(252697, 29)"
      ]
     },
     "execution_count": 13,
     "metadata": {},
     "output_type": "execute_result"
    }
   ],
   "source": [
    "# looking at shape of df\n",
    "main_df_posts.shape"
   ]
  },
  {
   "cell_type": "code",
   "execution_count": 14,
   "metadata": {},
   "outputs": [],
   "source": [
    "# dropping duplicated rows (they were created due to videos in carousel)\n",
    "main_df_posts.drop_duplicates(inplace=True)"
   ]
  },
  {
   "cell_type": "code",
   "execution_count": 15,
   "metadata": {},
   "outputs": [
    {
     "data": {
      "text/plain": [
       "(244708, 29)"
      ]
     },
     "execution_count": 15,
     "metadata": {},
     "output_type": "execute_result"
    }
   ],
   "source": [
    "# Looking at new shape of df\n",
    "# 7989 rows where dropped\n",
    "main_df_posts.shape"
   ]
  },
  {
   "cell_type": "markdown",
   "metadata": {},
   "source": [
    "### Uploading saved main_df_comments file\n",
    "The information was scrapped from Instagram using scraper."
   ]
  },
  {
   "cell_type": "code",
   "execution_count": 16,
   "metadata": {},
   "outputs": [],
   "source": [
    "# Reading csv with additional information\n",
    "comments = pd.read_csv('./datasets/main_df_comments.csv')"
   ]
  },
  {
   "cell_type": "code",
   "execution_count": 17,
   "metadata": {},
   "outputs": [],
   "source": [
    "# Changing post_type on more understandable\n",
    "# GraphSidecar=carousel, GraphVideo=video, GraphImage=image\n",
    "comments['post_type'] = comments['post_type'].map({'GraphSidecar':'carousel', \n",
    "                                                  'GraphVideo':'video', \n",
    "                                                  'GraphImage':'image'})"
   ]
  },
  {
   "cell_type": "code",
   "execution_count": 18,
   "metadata": {},
   "outputs": [
    {
     "data": {
      "text/html": [
       "<div>\n",
       "<style scoped>\n",
       "    .dataframe tbody tr th:only-of-type {\n",
       "        vertical-align: middle;\n",
       "    }\n",
       "\n",
       "    .dataframe tbody tr th {\n",
       "        vertical-align: top;\n",
       "    }\n",
       "\n",
       "    .dataframe thead th {\n",
       "        text-align: right;\n",
       "    }\n",
       "</style>\n",
       "<table border=\"1\" class=\"dataframe\">\n",
       "  <thead>\n",
       "    <tr style=\"text-align: right;\">\n",
       "      <th></th>\n",
       "      <th>num_likes</th>\n",
       "      <th>num_comments</th>\n",
       "      <th>post_type</th>\n",
       "      <th>user_name</th>\n",
       "      <th>photo_id</th>\n",
       "      <th>timestamp</th>\n",
       "      <th>caption_text</th>\n",
       "    </tr>\n",
       "  </thead>\n",
       "  <tbody>\n",
       "    <tr>\n",
       "      <th>0</th>\n",
       "      <td>3506</td>\n",
       "      <td>6</td>\n",
       "      <td>image</td>\n",
       "      <td>100flavoursuk</td>\n",
       "      <td>CAsYhYdgRU3</td>\n",
       "      <td>1590587180</td>\n",
       "      <td>#100flavoursuk</td>\n",
       "    </tr>\n",
       "    <tr>\n",
       "      <th>1</th>\n",
       "      <td>7447</td>\n",
       "      <td>9</td>\n",
       "      <td>image</td>\n",
       "      <td>100flavoursuk</td>\n",
       "      <td>CAsYQMZA8cP</td>\n",
       "      <td>1590587039</td>\n",
       "      <td>#100flavoursuk</td>\n",
       "    </tr>\n",
       "    <tr>\n",
       "      <th>2</th>\n",
       "      <td>1921</td>\n",
       "      <td>5</td>\n",
       "      <td>image</td>\n",
       "      <td>100flavoursuk</td>\n",
       "      <td>CAqSkOfgOFB</td>\n",
       "      <td>1590516948</td>\n",
       "      <td>#100flavoursuk</td>\n",
       "    </tr>\n",
       "    <tr>\n",
       "      <th>3</th>\n",
       "      <td>2960</td>\n",
       "      <td>11</td>\n",
       "      <td>image</td>\n",
       "      <td>100flavoursuk</td>\n",
       "      <td>CAqScMKAJoW</td>\n",
       "      <td>1590516882</td>\n",
       "      <td>#100flavoursuk</td>\n",
       "    </tr>\n",
       "    <tr>\n",
       "      <th>4</th>\n",
       "      <td>2306</td>\n",
       "      <td>6</td>\n",
       "      <td>image</td>\n",
       "      <td>100flavoursuk</td>\n",
       "      <td>CAqSX76ghYH</td>\n",
       "      <td>1590516848</td>\n",
       "      <td>#100flavoursuk</td>\n",
       "    </tr>\n",
       "  </tbody>\n",
       "</table>\n",
       "</div>"
      ],
      "text/plain": [
       "   num_likes  num_comments post_type      user_name     photo_id   timestamp  \\\n",
       "0       3506             6     image  100flavoursuk  CAsYhYdgRU3  1590587180   \n",
       "1       7447             9     image  100flavoursuk  CAsYQMZA8cP  1590587039   \n",
       "2       1921             5     image  100flavoursuk  CAqSkOfgOFB  1590516948   \n",
       "3       2960            11     image  100flavoursuk  CAqScMKAJoW  1590516882   \n",
       "4       2306             6     image  100flavoursuk  CAqSX76ghYH  1590516848   \n",
       "\n",
       "     caption_text  \n",
       "0  #100flavoursuk  \n",
       "1  #100flavoursuk  \n",
       "2  #100flavoursuk  \n",
       "3  #100flavoursuk  \n",
       "4  #100flavoursuk  "
      ]
     },
     "execution_count": 18,
     "metadata": {},
     "output_type": "execute_result"
    }
   ],
   "source": [
    "comments.head()"
   ]
  },
  {
   "cell_type": "code",
   "execution_count": 19,
   "metadata": {},
   "outputs": [
    {
     "name": "stdout",
     "output_type": "stream",
     "text": [
      "<class 'pandas.core.frame.DataFrame'>\n",
      "RangeIndex: 341121 entries, 0 to 341120\n",
      "Data columns (total 7 columns):\n",
      " #   Column        Non-Null Count   Dtype \n",
      "---  ------        --------------   ----- \n",
      " 0   num_likes     341121 non-null  int64 \n",
      " 1   num_comments  341121 non-null  int64 \n",
      " 2   post_type     341121 non-null  object\n",
      " 3   user_name     341121 non-null  object\n",
      " 4   photo_id      341121 non-null  object\n",
      " 5   timestamp     341121 non-null  int64 \n",
      " 6   caption_text  336463 non-null  object\n",
      "dtypes: int64(3), object(4)\n",
      "memory usage: 18.2+ MB\n"
     ]
    }
   ],
   "source": [
    "# checking missing values and dtypes\n",
    "comments.info()"
   ]
  },
  {
   "cell_type": "code",
   "execution_count": 20,
   "metadata": {},
   "outputs": [
    {
     "data": {
      "text/plain": [
       "(341121, 7)"
      ]
     },
     "execution_count": 20,
     "metadata": {},
     "output_type": "execute_result"
    }
   ],
   "source": [
    "# Looking at shape\n",
    "comments.shape"
   ]
  },
  {
   "cell_type": "code",
   "execution_count": 21,
   "metadata": {},
   "outputs": [],
   "source": [
    "# dropping duplicated rows\n",
    "comments.drop_duplicates(inplace=True)"
   ]
  },
  {
   "cell_type": "code",
   "execution_count": 22,
   "metadata": {},
   "outputs": [
    {
     "data": {
      "text/plain": [
       "(340732, 7)"
      ]
     },
     "execution_count": 22,
     "metadata": {},
     "output_type": "execute_result"
    }
   ],
   "source": [
    "# Checking shape again, 389 rows where dropped\n",
    "comments.shape"
   ]
  },
  {
   "cell_type": "markdown",
   "metadata": {},
   "source": [
    "## Merging three datasets"
   ]
  },
  {
   "cell_type": "code",
   "execution_count": 23,
   "metadata": {},
   "outputs": [],
   "source": [
    "# Merging posts and comments based on post's ids\n",
    "main_df = pd.merge(main_df_posts,comments, on='photo_id',how='left')"
   ]
  },
  {
   "cell_type": "code",
   "execution_count": 24,
   "metadata": {},
   "outputs": [],
   "source": [
    "# fill Nan in profile names before merging with another df\n",
    "main_df['profile_name'] = main_df['profile_name'].fillna(main_df['user_name'])"
   ]
  },
  {
   "cell_type": "code",
   "execution_count": 25,
   "metadata": {},
   "outputs": [],
   "source": [
    "# Merging posts and comments based on post's ids\n",
    "main_df = pd.merge(main_df,countries_info,left_on='profile_name',\n",
    "                            right_on='account',how='left')"
   ]
  },
  {
   "cell_type": "code",
   "execution_count": 26,
   "metadata": {},
   "outputs": [
    {
     "data": {
      "text/plain": [
       "(244709, 43)"
      ]
     },
     "execution_count": 26,
     "metadata": {},
     "output_type": "execute_result"
    }
   ],
   "source": [
    "# Looking for shape of merged df\n",
    "main_df.shape"
   ]
  },
  {
   "cell_type": "code",
   "execution_count": 27,
   "metadata": {},
   "outputs": [
    {
     "data": {
      "text/plain": [
       "post_text               98382\n",
       "text2                  154740\n",
       "what_on_photo          153270\n",
       "location               174718\n",
       "num_likes_post          39521\n",
       "num_views              211894\n",
       "time                     6498\n",
       "profile_name              220\n",
       "num_posts                 188\n",
       "full_name_profile        3095\n",
       "profile_description      7139\n",
       "personal_link           39308\n",
       "comment1                14740\n",
       "comment2                22195\n",
       "comment3                28959\n",
       "comment4                35139\n",
       "comment5                40704\n",
       "comment6                45956\n",
       "comment7                50530\n",
       "comment9                54869\n",
       "comment8                58892\n",
       "comment11               62600\n",
       "comment10               65950\n",
       "comment12               69146\n",
       "num_followers             247\n",
       "what_on_photo3         200988\n",
       "what_on_photo2         170823\n",
       "is_carousel            134356\n",
       "photo_id                    0\n",
       "num_likes                1993\n",
       "num_comments             1993\n",
       "post_type                1993\n",
       "user_name                1993\n",
       "timestamp                1993\n",
       "caption_text             4510\n",
       "country                   492\n",
       "account                   492\n",
       "main_prof_category        492\n",
       "follower_count            492\n",
       "post_count                492\n",
       "female                    492\n",
       "male                      492\n",
       "profile_categories        492\n",
       "dtype: int64"
      ]
     },
     "execution_count": 27,
     "metadata": {},
     "output_type": "execute_result"
    }
   ],
   "source": [
    "# Checking for missing values\n",
    "main_df.isnull().sum()"
   ]
  },
  {
   "cell_type": "code",
   "execution_count": 28,
   "metadata": {},
   "outputs": [
    {
     "data": {
      "text/plain": [
       "post_text               object\n",
       "text2                   object\n",
       "what_on_photo           object\n",
       "location                object\n",
       "num_likes_post          object\n",
       "num_views               object\n",
       "time                    object\n",
       "profile_name            object\n",
       "num_posts               object\n",
       "full_name_profile       object\n",
       "profile_description     object\n",
       "personal_link           object\n",
       "comment1                object\n",
       "comment2                object\n",
       "comment3                object\n",
       "comment4                object\n",
       "comment5                object\n",
       "comment6                object\n",
       "comment7                object\n",
       "comment9                object\n",
       "comment8                object\n",
       "comment11               object\n",
       "comment10               object\n",
       "comment12               object\n",
       "num_followers           object\n",
       "what_on_photo3          object\n",
       "what_on_photo2          object\n",
       "is_carousel             object\n",
       "photo_id                object\n",
       "num_likes              float64\n",
       "num_comments           float64\n",
       "post_type               object\n",
       "user_name               object\n",
       "timestamp              float64\n",
       "caption_text            object\n",
       "country                 object\n",
       "account                 object\n",
       "main_prof_category      object\n",
       "follower_count         float64\n",
       "post_count             float64\n",
       "female                 float64\n",
       "male                   float64\n",
       "profile_categories      object\n",
       "dtype: object"
      ]
     },
     "execution_count": 28,
     "metadata": {},
     "output_type": "execute_result"
    }
   ],
   "source": [
    "# Checking for data types\n",
    "main_df.dtypes"
   ]
  },
  {
   "cell_type": "markdown",
   "metadata": {},
   "source": [
    "As we can see, there are a lot of missing values and wrong data types. Let's clean the data frame.\n",
    "\n",
    "Some missing values were not scraped properly such profile name or photo id. It can be due to the privacy settings of the profiles.\n",
    "\n",
    "Other missing values are the absence of the information in the profiles."
   ]
  },
  {
   "cell_type": "markdown",
   "metadata": {},
   "source": [
    "## Data Cleaning"
   ]
  },
  {
   "cell_type": "markdown",
   "metadata": {},
   "source": [
    "While scraping, text information from different type of posts were saved in different columns, let's combine them together now."
   ]
  },
  {
   "cell_type": "code",
   "execution_count": 29,
   "metadata": {},
   "outputs": [],
   "source": [
    "# fill Nan in text from text 2\n",
    "main_df['post_text'] = main_df['post_text'].fillna(main_df['text2'])\n",
    "# fill Nan in text\n",
    "main_df['post_text'] = main_df['post_text'].fillna(main_df['caption_text'])\n",
    "main_df['post_text'] = main_df['post_text'].fillna('None')"
   ]
  },
  {
   "cell_type": "code",
   "execution_count": 30,
   "metadata": {},
   "outputs": [],
   "source": [
    "# fill Nan in what_on_photo2\n",
    "main_df['what_on_photo2'] = main_df['what_on_photo2'].fillna(main_df['what_on_photo'])\n",
    "# fill Nan in what_on_photo3\n",
    "main_df['what_on_photo3'] = main_df['what_on_photo3'].fillna(main_df['what_on_photo2'])"
   ]
  },
  {
   "cell_type": "code",
   "execution_count": 31,
   "metadata": {},
   "outputs": [],
   "source": [
    "# Drop unwanted columns which were used above\n",
    "main_df.drop(columns=['what_on_photo2','what_on_photo','text2'],inplace=True)\n",
    "main_df.rename(columns={'what_on_photo3':'what_on_photo'},inplace=True)"
   ]
  },
  {
   "cell_type": "code",
   "execution_count": 32,
   "metadata": {},
   "outputs": [
    {
     "data": {
      "text/plain": [
       "47536"
      ]
     },
     "execution_count": 32,
     "metadata": {},
     "output_type": "execute_result"
    }
   ],
   "source": [
    "main_df['what_on_photo'].isnull().sum()"
   ]
  },
  {
   "cell_type": "markdown",
   "metadata": {},
   "source": [
    "Location, personal link, profile description and full name were not specified in every post. Unspecified cells will be filled with 'Not specified'."
   ]
  },
  {
   "cell_type": "code",
   "execution_count": 33,
   "metadata": {},
   "outputs": [],
   "source": [
    "# fill Nan location\n",
    "main_df['location'] = main_df['location'].fillna('Not specified')"
   ]
  },
  {
   "cell_type": "code",
   "execution_count": 34,
   "metadata": {},
   "outputs": [],
   "source": [
    "# fill Nan in personal_link\n",
    "main_df['personal_link'] = main_df['personal_link'].fillna('Not specified')"
   ]
  },
  {
   "cell_type": "code",
   "execution_count": 35,
   "metadata": {},
   "outputs": [],
   "source": [
    "# fill Nan in profile_description\n",
    "main_df['profile_description'] = main_df['profile_description'].fillna('Not specified')"
   ]
  },
  {
   "cell_type": "code",
   "execution_count": 36,
   "metadata": {},
   "outputs": [],
   "source": [
    "# fill Nan in full_name_profile\n",
    "main_df['full_name_profile'] = main_df['full_name_profile'].fillna('Not specified')"
   ]
  },
  {
   "cell_type": "markdown",
   "metadata": {},
   "source": [
    "Converting strings to int deleting ',' and words."
   ]
  },
  {
   "cell_type": "code",
   "execution_count": 37,
   "metadata": {},
   "outputs": [],
   "source": [
    "# fill NA num_views\n",
    "# deleting views\n",
    "main_df['num_views'] = main_df['num_views'].fillna('0 views')\n",
    "main_df['num_views'] = main_df['num_views'].map(lambda x: \n",
    "                                        int(x.split(' ')[0].replace(',','')))"
   ]
  },
  {
   "cell_type": "code",
   "execution_count": 38,
   "metadata": {},
   "outputs": [],
   "source": [
    "# fill NA num_posts\n",
    "# delete ','\n",
    "not_null = main_df[main_df['num_posts'].isnull() == False].index\n",
    "main_df.loc[not_null,'num_posts'] = main_df.loc[not_null,'num_posts'].map(lambda x:\n",
    "                                    int(x.replace(',', '').split(' ')[0]))"
   ]
  },
  {
   "cell_type": "code",
   "execution_count": 39,
   "metadata": {},
   "outputs": [],
   "source": [
    "# fill NA num_likes_post\n",
    "# delete ','\n",
    "index_not_nan = main_df[main_df['num_likes_post'].isnull()==False].index\n",
    "main_df.loc[index_not_nan,'num_likes_post'] = main_df.loc[index_not_nan,'num_likes_post'].map(lambda x:\n",
    "                                    x.replace(',', '').split(' ')[0])"
   ]
  },
  {
   "cell_type": "code",
   "execution_count": 40,
   "metadata": {},
   "outputs": [],
   "source": [
    "# fill NA num_views\n",
    "# delete ','\n",
    "index_not_nan = main_df[main_df['num_views'].isnull()==False].index\n",
    "main_df.loc[index_not_nan,'num_views'] = main_df.loc[index_not_nan,'num_views'].map(lambda x:\n",
    "                                    x.replace(',', '').split(' ')[0] if isinstance(x,str) else x)"
   ]
  },
  {
   "cell_type": "code",
   "execution_count": 41,
   "metadata": {},
   "outputs": [],
   "source": [
    "# delete ',' in numbers\n",
    "index_not_nan = main_df[main_df['num_followers'].isnull()==False].index\n",
    "main_df.loc[index_not_nan,'num_followers'] = main_df.loc[index_not_nan,'num_followers'].map(lambda x:\n",
    "                                    int(x.replace(',', '')))"
   ]
  },
  {
   "cell_type": "markdown",
   "metadata": {},
   "source": [
    "Some information from octoparse scraper were missed but second scraper got these info. Missing values from first scraper will be fild with info from another."
   ]
  },
  {
   "cell_type": "code",
   "execution_count": 42,
   "metadata": {},
   "outputs": [],
   "source": [
    "# if there is number of views it means it is video\n",
    "index = main_df[(main_df['post_type'].isnull()==True)&(main_df['num_views']>0)].index\n",
    "main_df.loc[index,'post_type'] = 'video'"
   ]
  },
  {
   "cell_type": "code",
   "execution_count": 43,
   "metadata": {},
   "outputs": [],
   "source": [
    "# Checking NAN and fill num_comments from comments and posts df\n",
    "main_df['num_likes_post'].fillna(main_df['num_likes'],inplace=True)"
   ]
  },
  {
   "cell_type": "markdown",
   "metadata": {},
   "source": [
    "Getting time and converting to datetime type"
   ]
  },
  {
   "cell_type": "code",
   "execution_count": 44,
   "metadata": {},
   "outputs": [
    {
     "data": {
      "text/plain": [
       "'<time class=\"_1o9PC Nzb55\" datetime=\"2020-05-21T00:31:43.000Z\" title=\"May 21, 2020\">3 hours ago</time>'"
      ]
     },
     "execution_count": 44,
     "metadata": {},
     "output_type": "execute_result"
    }
   ],
   "source": [
    "main_df['time'][0]"
   ]
  },
  {
   "cell_type": "code",
   "execution_count": 45,
   "metadata": {},
   "outputs": [],
   "source": [
    "# Filtering NAN\n",
    "not_null = main_df[main_df['time'].isnull() == False]\n",
    "# Getting time from html tags\n",
    "main_df.loc[not_null.index,'time'] = main_df.loc[not_null.index,'time'].map(lambda x: \n",
    "                                                    x.split(' ')[3].split('=')[1].split('.')[0])"
   ]
  },
  {
   "cell_type": "code",
   "execution_count": 46,
   "metadata": {},
   "outputs": [
    {
     "data": {
      "text/plain": [
       "6498"
      ]
     },
     "execution_count": 46,
     "metadata": {},
     "output_type": "execute_result"
    }
   ],
   "source": [
    "main_df['time'].isnull().sum()"
   ]
  },
  {
   "cell_type": "code",
   "execution_count": 47,
   "metadata": {},
   "outputs": [],
   "source": [
    "# Filtering NAN with in time with timestamp\n",
    "main_df['time'] = main_df['time'].fillna(main_df['timestamp'])\n",
    "main_df['time'] = main_df['time'].fillna(0.0)"
   ]
  },
  {
   "cell_type": "code",
   "execution_count": 48,
   "metadata": {},
   "outputs": [],
   "source": [
    "# Converting date to datetime format\n",
    "not_null = main_df[main_df['time'].isnull() == False].index\n",
    "# main_df.loc[not_null,'time'] = pd.to_datetime(main_df.loc[not_null,'time'], format='\"%Y-%m-%dT%H:%M:%S')\n",
    "main_df.loc[not_null,'time'] = main_df.loc[not_null,'time'].apply(lambda x: \n",
    "                                    dt.fromtimestamp(x) if isinstance(x,float)\n",
    "                                    else pd.to_datetime(x,format='\"%Y-%m-%dT%H:%M:%S'))"
   ]
  },
  {
   "cell_type": "code",
   "execution_count": 49,
   "metadata": {},
   "outputs": [
    {
     "data": {
      "text/plain": [
       "1970-01-01 08:00:00    314\n",
       "2020-05-06 18:54:43     13\n",
       "2020-01-23 04:18:35     13\n",
       "2020-04-06 10:33:52     12\n",
       "2019-11-29 21:37:59     12\n",
       "Name: time, dtype: int64"
      ]
     },
     "execution_count": 49,
     "metadata": {},
     "output_type": "execute_result"
    }
   ],
   "source": [
    "main_df['time'].value_counts().head()"
   ]
  },
  {
   "cell_type": "code",
   "execution_count": 50,
   "metadata": {},
   "outputs": [],
   "source": [
    "# Getting what on photo from html tags\n",
    "not_null = main_df[main_df['what_on_photo'].isnull() == False]\n",
    "main_df.loc[not_null.index,'what_on_photo'] = main_df.loc[not_null.index,'what_on_photo'].map(lambda x: \n",
    "                                        x.split(':')[1].split('\"')[0])\n",
    "main_df['what_on_photo'] = main_df['what_on_photo'].fillna('None')"
   ]
  },
  {
   "cell_type": "code",
   "execution_count": 51,
   "metadata": {},
   "outputs": [],
   "source": [
    "# Fill Nan is_carousel with false\n",
    "main_df['is_carousel'].fillna(False,inplace=True)\n",
    "# Correcting \n",
    "main_df['is_carousel'] = main_df['is_carousel'].map(lambda x: True if x != False else False)"
   ]
  },
  {
   "cell_type": "code",
   "execution_count": 52,
   "metadata": {},
   "outputs": [],
   "source": [
    "# filling Nan with ' ' space\n",
    "for i in range(1,13):\n",
    "    column_name = 'comment'+str(i)\n",
    "    main_df[column_name] = main_df[column_name].fillna(' ')\n",
    "# concatanate comments in one\n",
    "main_df['comments'] = (main_df['comment1']+' '+main_df['comment2']+' '+main_df['comment3']+' '+\n",
    "main_df['comment4']+' '+main_df['comment5']+' '+main_df['comment6']+' '+main_df['comment7']+' '+\n",
    "main_df['comment8']+' '+main_df['comment9']+' '+main_df['comment10']+' '+main_df['comment11']+' '+\n",
    "main_df['comment12'])"
   ]
  },
  {
   "cell_type": "code",
   "execution_count": 53,
   "metadata": {},
   "outputs": [],
   "source": [
    "# Dropping usless columns\n",
    "main_df.drop(columns=['num_likes','user_name','caption_text','comment1','comment2','comment3',\n",
    "                     'comment4','comment5','comment6','comment7','comment8','comment9','comment10',\n",
    "                     'comment11','comment12','account','is_carousel','follower_count',\n",
    "                     'post_count'],inplace=True)"
   ]
  },
  {
   "cell_type": "code",
   "execution_count": 54,
   "metadata": {},
   "outputs": [],
   "source": [
    "# Deleting rows with high number of Nan\n",
    "main_df.dropna(subset=['profile_name'],inplace=True)\n",
    "\n",
    "# deleting rows without number of likes and it's not a video\n",
    "index = main_df[(main_df['num_likes_post'].isnull()==True)&(main_df['num_views']==0)].index\n",
    "main_df.drop(index=index,inplace=True,axis=0)"
   ]
  },
  {
   "cell_type": "code",
   "execution_count": 55,
   "metadata": {},
   "outputs": [],
   "source": [
    "# Dtype change for number of posts\n",
    "main_df['num_posts'] = main_df['num_posts'].astype('int')"
   ]
  },
  {
   "cell_type": "code",
   "execution_count": 56,
   "metadata": {},
   "outputs": [],
   "source": [
    "# Dtype change for num_followers\n",
    "main_df['num_followers'] = main_df['num_followers'].astype('int')"
   ]
  },
  {
   "cell_type": "markdown",
   "metadata": {},
   "source": [
    "### Data imputation"
   ]
  },
  {
   "cell_type": "code",
   "execution_count": 57,
   "metadata": {},
   "outputs": [],
   "source": [
    "# additional df with likes for video from additional parse with octoparse\n",
    "video_likes = pd.read_csv('./datasets/video_likes.csv')\n",
    "video_likes['URL'] = video_likes['URL'].map(lambda x: x.split('/')[-2])\n",
    "main_df = pd.merge(main_df,video_likes,left_on='photo_id',right_on='URL',how='left')\n",
    "main_df['num_likes_post'] = main_df['num_likes_post'].fillna(main_df['Likes'])\n",
    "main_df.drop(columns=['Likes','URL'],inplace=True)"
   ]
  },
  {
   "cell_type": "markdown",
   "metadata": {},
   "source": [
    "Dropping remained Nan rows and Final check of missing values"
   ]
  },
  {
   "cell_type": "code",
   "execution_count": 58,
   "metadata": {},
   "outputs": [
    {
     "data": {
      "text/plain": [
       "post_text                 0\n",
       "location                  0\n",
       "num_likes_post          120\n",
       "num_views                 0\n",
       "time                      0\n",
       "profile_name              0\n",
       "num_posts                 0\n",
       "full_name_profile         0\n",
       "profile_description       0\n",
       "personal_link             0\n",
       "num_followers             0\n",
       "what_on_photo             0\n",
       "photo_id                  0\n",
       "num_comments           1653\n",
       "post_type               981\n",
       "timestamp              1653\n",
       "country                 272\n",
       "main_prof_category      272\n",
       "female                  272\n",
       "male                    272\n",
       "profile_categories      272\n",
       "comments                  0\n",
       "dtype: int64"
      ]
     },
     "execution_count": 58,
     "metadata": {},
     "output_type": "execute_result"
    }
   ],
   "source": [
    "main_df.isnull().sum()"
   ]
  },
  {
   "cell_type": "code",
   "execution_count": 59,
   "metadata": {},
   "outputs": [],
   "source": [
    "# Dropping remained rows with missing values \n",
    "main_df.dropna(subset=['num_likes_post'],inplace=True)\n",
    "main_df.dropna(subset=['num_comments'],inplace=True)\n",
    "main_df.dropna(subset=['country'],inplace=True)\n",
    "main_df.drop(index=main_df[main_df['num_likes_post']=='like'].index,inplace=True)\n",
    "main_df.drop(index=main_df[(main_df['num_likes_post'] ==0)].index,inplace=True)\n",
    "main_df.drop(columns=['timestamp'],inplace=True)\n",
    "\n",
    "main_df['num_likes_post'] = main_df['num_likes_post'].astype(int)\n",
    "\n",
    "# Dropping rows from wrong scraped countries\n",
    "index = main_df[main_df['country']=='Russian Federation'].index\n",
    "main_df.drop(index=index,inplace=True)\n",
    "index = main_df[main_df['country']=='Indonesia'].index\n",
    "main_df.drop(index=index,inplace=True)"
   ]
  },
  {
   "cell_type": "code",
   "execution_count": 60,
   "metadata": {},
   "outputs": [
    {
     "data": {
      "text/plain": [
       "post_text              0\n",
       "location               0\n",
       "num_likes_post         0\n",
       "num_views              0\n",
       "time                   0\n",
       "profile_name           0\n",
       "num_posts              0\n",
       "full_name_profile      0\n",
       "profile_description    0\n",
       "personal_link          0\n",
       "num_followers          0\n",
       "what_on_photo          0\n",
       "photo_id               0\n",
       "num_comments           0\n",
       "post_type              0\n",
       "country                0\n",
       "main_prof_category     0\n",
       "female                 0\n",
       "male                   0\n",
       "profile_categories     0\n",
       "comments               0\n",
       "dtype: int64"
      ]
     },
     "execution_count": 60,
     "metadata": {},
     "output_type": "execute_result"
    }
   ],
   "source": [
    "main_df.isnull().sum()"
   ]
  },
  {
   "cell_type": "code",
   "execution_count": 61,
   "metadata": {},
   "outputs": [
    {
     "data": {
      "text/plain": [
       "post_text                      object\n",
       "location                       object\n",
       "num_likes_post                  int32\n",
       "num_views                       int64\n",
       "time                   datetime64[ns]\n",
       "profile_name                   object\n",
       "num_posts                       int32\n",
       "full_name_profile              object\n",
       "profile_description            object\n",
       "personal_link                  object\n",
       "num_followers                   int32\n",
       "what_on_photo                  object\n",
       "photo_id                       object\n",
       "num_comments                  float64\n",
       "post_type                      object\n",
       "country                        object\n",
       "main_prof_category             object\n",
       "female                        float64\n",
       "male                          float64\n",
       "profile_categories             object\n",
       "comments                       object\n",
       "dtype: object"
      ]
     },
     "execution_count": 61,
     "metadata": {},
     "output_type": "execute_result"
    }
   ],
   "source": [
    "main_df.dtypes"
   ]
  },
  {
   "cell_type": "code",
   "execution_count": 62,
   "metadata": {},
   "outputs": [
    {
     "data": {
      "text/plain": [
       "(241976, 21)"
      ]
     },
     "execution_count": 62,
     "metadata": {},
     "output_type": "execute_result"
    }
   ],
   "source": [
    "main_df.shape"
   ]
  },
  {
   "cell_type": "code",
   "execution_count": 63,
   "metadata": {},
   "outputs": [
    {
     "data": {
      "text/html": [
       "<div>\n",
       "<style scoped>\n",
       "    .dataframe tbody tr th:only-of-type {\n",
       "        vertical-align: middle;\n",
       "    }\n",
       "\n",
       "    .dataframe tbody tr th {\n",
       "        vertical-align: top;\n",
       "    }\n",
       "\n",
       "    .dataframe thead th {\n",
       "        text-align: right;\n",
       "    }\n",
       "</style>\n",
       "<table border=\"1\" class=\"dataframe\">\n",
       "  <thead>\n",
       "    <tr style=\"text-align: right;\">\n",
       "      <th></th>\n",
       "      <th>post_text</th>\n",
       "      <th>location</th>\n",
       "      <th>num_likes_post</th>\n",
       "      <th>num_views</th>\n",
       "      <th>time</th>\n",
       "      <th>profile_name</th>\n",
       "      <th>num_posts</th>\n",
       "      <th>full_name_profile</th>\n",
       "      <th>profile_description</th>\n",
       "      <th>personal_link</th>\n",
       "      <th>...</th>\n",
       "      <th>what_on_photo</th>\n",
       "      <th>photo_id</th>\n",
       "      <th>num_comments</th>\n",
       "      <th>post_type</th>\n",
       "      <th>country</th>\n",
       "      <th>main_prof_category</th>\n",
       "      <th>female</th>\n",
       "      <th>male</th>\n",
       "      <th>profile_categories</th>\n",
       "      <th>comments</th>\n",
       "    </tr>\n",
       "  </thead>\n",
       "  <tbody>\n",
       "    <tr>\n",
       "      <th>0</th>\n",
       "      <td>Photo by Michaela Skovranova @mishkusk | An ic...</td>\n",
       "      <td>Not specified</td>\n",
       "      <td>86864</td>\n",
       "      <td>0</td>\n",
       "      <td>2020-05-21 00:31:43</td>\n",
       "      <td>natgeo</td>\n",
       "      <td>22741</td>\n",
       "      <td>National Geographic</td>\n",
       "      <td>Experience the world through the eyes of Natio...</td>\n",
       "      <td>on.natgeo.com/instagram</td>\n",
       "      <td>...</td>\n",
       "      <td>cloud, sky, ocean, outdoor, nature and water</td>\n",
       "      <td>CAbg0DGF4vT</td>\n",
       "      <td>464.0</td>\n",
       "      <td>image</td>\n",
       "      <td>United States</td>\n",
       "      <td>Publishers</td>\n",
       "      <td>51.2</td>\n",
       "      <td>48.8</td>\n",
       "      <td>[photography,  travel,  nature]</td>\n",
       "      <td>💙 Worldstar blocked me because I post better f...</td>\n",
       "    </tr>\n",
       "    <tr>\n",
       "      <th>1</th>\n",
       "      <td>Photo by Ivan Kashinsky @ivankphoto | \"As craz...</td>\n",
       "      <td>Not specified</td>\n",
       "      <td>176242</td>\n",
       "      <td>0</td>\n",
       "      <td>2020-05-20 22:03:04</td>\n",
       "      <td>natgeo</td>\n",
       "      <td>22741</td>\n",
       "      <td>National Geographic</td>\n",
       "      <td>Experience the world through the eyes of Natio...</td>\n",
       "      <td>on.natgeo.com/instagram</td>\n",
       "      <td>...</td>\n",
       "      <td>1 person, child and outdoor</td>\n",
       "      <td>CAbPzJiM9R9</td>\n",
       "      <td>3049.0</td>\n",
       "      <td>image</td>\n",
       "      <td>United States</td>\n",
       "      <td>Publishers</td>\n",
       "      <td>51.2</td>\n",
       "      <td>48.8</td>\n",
       "      <td>[photography,  travel,  nature]</td>\n",
       "      <td>This is beautiful!! 🤷🏻‍♀️ okkkkkk??? And Jaden...</td>\n",
       "    </tr>\n",
       "    <tr>\n",
       "      <th>2</th>\n",
       "      <td>Photo by David Guttenfelder @dguttenfelder | A...</td>\n",
       "      <td>Not specified</td>\n",
       "      <td>271002</td>\n",
       "      <td>0</td>\n",
       "      <td>2020-05-20 19:34:07</td>\n",
       "      <td>natgeo</td>\n",
       "      <td>22741</td>\n",
       "      <td>National Geographic</td>\n",
       "      <td>Experience the world through the eyes of Natio...</td>\n",
       "      <td>on.natgeo.com/instagram</td>\n",
       "      <td>...</td>\n",
       "      <td>sky, cloud, outdoor and nature</td>\n",
       "      <td>CAa-wN1pAcV</td>\n",
       "      <td>1161.0</td>\n",
       "      <td>image</td>\n",
       "      <td>United States</td>\n",
       "      <td>Publishers</td>\n",
       "      <td>51.2</td>\n",
       "      <td>48.8</td>\n",
       "      <td>[photography,  travel,  nature]</td>\n",
       "      <td>Damn Natgeo, clean up these bots 🔞🔞🔞\\n...........</td>\n",
       "    </tr>\n",
       "  </tbody>\n",
       "</table>\n",
       "<p>3 rows × 21 columns</p>\n",
       "</div>"
      ],
      "text/plain": [
       "                                           post_text       location  \\\n",
       "0  Photo by Michaela Skovranova @mishkusk | An ic...  Not specified   \n",
       "1  Photo by Ivan Kashinsky @ivankphoto | \"As craz...  Not specified   \n",
       "2  Photo by David Guttenfelder @dguttenfelder | A...  Not specified   \n",
       "\n",
       "   num_likes_post  num_views                time profile_name  num_posts  \\\n",
       "0           86864          0 2020-05-21 00:31:43       natgeo      22741   \n",
       "1          176242          0 2020-05-20 22:03:04       natgeo      22741   \n",
       "2          271002          0 2020-05-20 19:34:07       natgeo      22741   \n",
       "\n",
       "     full_name_profile                                profile_description  \\\n",
       "0  National Geographic  Experience the world through the eyes of Natio...   \n",
       "1  National Geographic  Experience the world through the eyes of Natio...   \n",
       "2  National Geographic  Experience the world through the eyes of Natio...   \n",
       "\n",
       "             personal_link  ...  \\\n",
       "0  on.natgeo.com/instagram  ...   \n",
       "1  on.natgeo.com/instagram  ...   \n",
       "2  on.natgeo.com/instagram  ...   \n",
       "\n",
       "                                   what_on_photo     photo_id num_comments  \\\n",
       "0   cloud, sky, ocean, outdoor, nature and water  CAbg0DGF4vT        464.0   \n",
       "1                    1 person, child and outdoor  CAbPzJiM9R9       3049.0   \n",
       "2                 sky, cloud, outdoor and nature  CAa-wN1pAcV       1161.0   \n",
       "\n",
       "   post_type        country main_prof_category female  male  \\\n",
       "0      image  United States         Publishers   51.2  48.8   \n",
       "1      image  United States         Publishers   51.2  48.8   \n",
       "2      image  United States         Publishers   51.2  48.8   \n",
       "\n",
       "                profile_categories  \\\n",
       "0  [photography,  travel,  nature]   \n",
       "1  [photography,  travel,  nature]   \n",
       "2  [photography,  travel,  nature]   \n",
       "\n",
       "                                            comments  \n",
       "0  💙 Worldstar blocked me because I post better f...  \n",
       "1  This is beautiful!! 🤷🏻‍♀️ okkkkkk??? And Jaden...  \n",
       "2  Damn Natgeo, clean up these bots 🔞🔞🔞\\n...........  \n",
       "\n",
       "[3 rows x 21 columns]"
      ]
     },
     "execution_count": 63,
     "metadata": {},
     "output_type": "execute_result"
    }
   ],
   "source": [
    "main_df.head(3)"
   ]
  },
  {
   "cell_type": "markdown",
   "metadata": {},
   "source": [
    "## Feature creation"
   ]
  },
  {
   "cell_type": "markdown",
   "metadata": {},
   "source": [
    "Categorizing profiles based on the number of followers:\n",
    "\n",
    "<img src=https://hypeauditor.com/blog/wp-content/uploads/2019/03/How-many-Followers-make-an-Instagram-Influencer-1.png width=\"600\" height=\"400\">"
   ]
  },
  {
   "cell_type": "code",
   "execution_count": 64,
   "metadata": {},
   "outputs": [
    {
     "data": {
      "text/plain": [
       "Macro             113696\n",
       "Mega               77722\n",
       "Midi               25516\n",
       "Micro              24843\n",
       "Not influrncer       154\n",
       "Nano                  45\n",
       "Name: influencer_type, dtype: int64"
      ]
     },
     "execution_count": 64,
     "metadata": {},
     "output_type": "execute_result"
    }
   ],
   "source": [
    "# Categorizing profiles\n",
    "def influencer_type(num_followers):\n",
    "        if num_followers > 1_000_000:\n",
    "            return 'Mega'\n",
    "        elif 100_000 <= num_followers < 1_000_000:\n",
    "            return 'Macro'\n",
    "        elif 20_000 <= num_followers <100_000:\n",
    "            return 'Midi'\n",
    "        elif 5_000 <= num_followers < 20_000:\n",
    "            return 'Micro'\n",
    "        elif 1_000 <= num_followers < 5_000:\n",
    "            return 'Nano'\n",
    "        else:\n",
    "            return 'Not influrncer'\n",
    "\n",
    "main_df['influencer_type'] = main_df['num_followers'].map(lambda x:influencer_type(x))\n",
    "main_df['influencer_type'].value_counts()"
   ]
  },
  {
   "cell_type": "code",
   "execution_count": 65,
   "metadata": {},
   "outputs": [
    {
     "data": {
      "text/plain": [
       "Macro    113696\n",
       "Mega      77722\n",
       "Midi      25516\n",
       "Micro     24843\n",
       "Name: influencer_type, dtype: int64"
      ]
     },
     "execution_count": 65,
     "metadata": {},
     "output_type": "execute_result"
    }
   ],
   "source": [
    "# we can see that number of 'Nano' and 'Not influrncer' is very small, so, they will be dropped\n",
    "no_influens_index = main_df[main_df['influencer_type'].isin(['Nano','Not influrncer'])].index\n",
    "main_df.drop(index=no_influens_index,inplace=True)\n",
    "main_df['influencer_type'].value_counts()"
   ]
  },
  {
   "cell_type": "code",
   "execution_count": 66,
   "metadata": {},
   "outputs": [
    {
     "data": {
      "text/plain": [
       "0    [landscape, antarctica, ocean, naturelovestori...\n",
       "1    [humanity, human_rights, opencalifornia, war, ...\n",
       "2                                                   []\n",
       "Name: hashtags, dtype: object"
      ]
     },
     "execution_count": 66,
     "metadata": {},
     "output_type": "execute_result"
    }
   ],
   "source": [
    "# extracting hashtags\n",
    "main_df['hashtags_post_text'] = main_df['post_text'].apply(lambda s:re.findall(r\"#(\\w+)\", s.lower()))\n",
    "main_df['hashtags_comments'] = main_df['comments'].apply(lambda s:re.findall(r\"#(\\w+)\", s.lower()))\n",
    "main_df['hashtags'] = main_df['hashtags_post_text']+main_df['hashtags_comments']\n",
    "main_df['hashtags'] = main_df['hashtags'].map(lambda s: list(set(s)))\n",
    "main_df['hashtags'][:3]"
   ]
  },
  {
   "cell_type": "code",
   "execution_count": 67,
   "metadata": {},
   "outputs": [
    {
     "data": {
      "text/plain": [
       "0    [💙, ❤, 💗, 🔥, 👌, 👍, 👏, 🌍, 💜, 😢]\n",
       "1                [♀, 🇺, 🤔, 🏻, 🇸, 🤷]\n",
       "2                      [🔥, 🔞, 😍, 💖]\n",
       "Name: emoji_comments, dtype: object"
      ]
     },
     "execution_count": 67,
     "metadata": {},
     "output_type": "execute_result"
    }
   ],
   "source": [
    "# extracting emoji\n",
    "main_df['emoji_post_text'] = main_df['post_text'].apply(lambda s:(list(set([c for c in s if c in emoji.UNICODE_EMOJI]))))\n",
    "main_df['emoji_comments'] = main_df['comments'].apply(lambda s:(list(set([c for c in s if c in emoji.UNICODE_EMOJI]))))\n",
    "main_df['emoji_comments'][:3]"
   ]
  },
  {
   "cell_type": "code",
   "execution_count": 68,
   "metadata": {},
   "outputs": [],
   "source": [
    "# creating a column length of text under photo\n",
    "main_df['len_post_text'] = main_df['post_text'].map(lambda x: len(x))"
   ]
  },
  {
   "cell_type": "code",
   "execution_count": 69,
   "metadata": {},
   "outputs": [],
   "source": [
    "# creating a column with number of unique hashtags\n",
    "main_df['num_of_unique_hashtags'] = main_df['hashtags'].map(lambda x: len(x))"
   ]
  },
  {
   "cell_type": "code",
   "execution_count": 70,
   "metadata": {},
   "outputs": [],
   "source": [
    "# # clean non english hashtags\n",
    "# import nltk\n",
    "# words = set(nltk.corpus.words.words())\n",
    "\n",
    "# sent = \"Io andiamo to the beach with my amico.\"\n",
    "# \" \".join(w for w in nltk.wordpunct_tokenize(sent) \\\n",
    "#          if w.lower() in words or not w.isalpha())"
   ]
  },
  {
   "cell_type": "code",
   "execution_count": 71,
   "metadata": {},
   "outputs": [
    {
     "data": {
      "text/plain": [
       "Index(['post_text', 'location', 'num_likes_post', 'num_views', 'time',\n",
       "       'profile_name', 'num_posts', 'full_name_profile', 'profile_description',\n",
       "       'personal_link', 'num_followers', 'what_on_photo', 'photo_id',\n",
       "       'num_comments', 'post_type', 'country', 'main_prof_category', 'female',\n",
       "       'male', 'profile_categories', 'comments', 'influencer_type',\n",
       "       'hashtags_post_text', 'hashtags_comments', 'hashtags',\n",
       "       'emoji_post_text', 'emoji_comments', 'len_post_text',\n",
       "       'num_of_unique_hashtags'],\n",
       "      dtype='object')"
      ]
     },
     "execution_count": 71,
     "metadata": {},
     "output_type": "execute_result"
    }
   ],
   "source": [
    "main_df.columns"
   ]
  },
  {
   "cell_type": "code",
   "execution_count": 72,
   "metadata": {},
   "outputs": [],
   "source": [
    "# grouping dataset by unique profile names\n",
    "unique_profiles = main_df.groupby('profile_name').mean()"
   ]
  },
  {
   "cell_type": "code",
   "execution_count": 73,
   "metadata": {},
   "outputs": [],
   "source": [
    "# dropping profiles with 1 post only\n",
    "prof_names_1_post = unique_profiles[unique_profiles['num_posts']<2].index\n",
    "main_df.drop(index = main_df[main_df['profile_name'].isin(prof_names_1_post)].index,inplace=True)"
   ]
  },
  {
   "cell_type": "code",
   "execution_count": 75,
   "metadata": {},
   "outputs": [],
   "source": [
    "# creating information about mean number of likes by profile,\n",
    "# frequancy of post publishing\n",
    "# and number of scraped rows per profile\n",
    "main_df['number_rows'] = 0\n",
    "main_df['mean_likes'] = 0\n",
    "count = 0\n",
    "for profile in unique_profiles.index:\n",
    "    temp_df = main_df[main_df['profile_name']==profile]\n",
    "    mean_liskes = temp_df['num_likes_post'].mean()\n",
    "    temp_df = temp_df.sort_values('time')\n",
    "    # mean likes in profile\n",
    "    main_df.loc[temp_df.index,'mean_likes'] = mean_liskes\n",
    "    # mean number of comments of a profile\n",
    "    main_df.loc[temp_df.index,'mean_comments'] = mean_liskes\n",
    "    # number of scraped posts of a profile\n",
    "    main_df.loc[temp_df.index,'number_rows'] = temp_df.shape[0]\n",
    "    # frequency of publishing posts\n",
    "    index = temp_df.index\n",
    "    temp_df = temp_df.drop_duplicates(subset=['time','post_text'])\n",
    "    temp_df['sifted_time'] = temp_df['time'].shift(1)\n",
    "    temp_df['diff'] = (temp_df['time'] - temp_df['sifted_time'])\n",
    "    main_df.loc[index,'post_frequency'] = temp_df['diff'].mean().seconds / 60/60"
   ]
  },
  {
   "cell_type": "code",
   "execution_count": null,
   "metadata": {},
   "outputs": [],
   "source": [
    "# Converting GMT to local time with average timedelta for contry\n",
    "tdelta_us = timedelta(hours=-7)\n",
    "tdelta_uk = timedelta(hours=-1)\n",
    "tdelta_aus = timedelta(hours=10)\n",
    "tdelta_nz = timedelta(hours=12)\n",
    "indx = main_df[main_df['country'] == 'United States'].index\n",
    "main_df.loc[indx,'time'] = main_df.loc[indx,'time']- tdelta_us\n",
    "indx = main_df[main_df['country'] == 'United Kingdom'].index\n",
    "main_df.loc[indx,'time'] = main_df.loc[indx,'time']- tdelta_uk\n",
    "indx = main_df[main_df['country'] == 'Australia'].index\n",
    "main_df.loc[indx,'time'] = main_df.loc[indx,'time']+ tdelta_aus\n",
    "indx = main_df[main_df['country'] == 'New Zealand'].index\n",
    "main_df.loc[indx,'time'] = main_df.loc[indx,'time']+ tdelta_nz\n",
    "\n",
    "# Extracting hour and week of posting\n",
    "main_df['hour'] = main_df['time'].dt.hour\n",
    "main_df['weekday'] = main_df['time'].dt.weekday"
   ]
  },
  {
   "cell_type": "code",
   "execution_count": 76,
   "metadata": {},
   "outputs": [],
   "source": [
    "# creating column percent of comments_engagement = num_comments /num_followers\n",
    "main_df['comments_engagement'] = round(main_df['num_comments']/main_df['num_followers']*100,2)"
   ]
  },
  {
   "cell_type": "code",
   "execution_count": 77,
   "metadata": {},
   "outputs": [],
   "source": [
    "# creating column percent of like_engagment = num_likes /num_followers\n",
    "main_df['like_engagement'] = round(main_df['num_likes_post']/main_df['num_followers']*100,2)"
   ]
  },
  {
   "cell_type": "code",
   "execution_count": 78,
   "metadata": {},
   "outputs": [],
   "source": [
    "# Sentiment Analysis on post text\n",
    "main_df['polarity_post_txt'] = main_df['post_text'].map(lambda x: TextBlob(x).sentiment.polarity)\n",
    "main_df['subjectivity_post_txt'] = main_df['post_text'].map(lambda x: \n",
    "                                                    TextBlob(x).sentiment.subjectivity)"
   ]
  },
  {
   "cell_type": "code",
   "execution_count": 79,
   "metadata": {},
   "outputs": [
    {
     "data": {
      "text/plain": [
       "polarity_post_txt        0.186469\n",
       "subjectivity_post_txt    0.389980\n",
       "dtype: float64"
      ]
     },
     "execution_count": 79,
     "metadata": {},
     "output_type": "execute_result"
    }
   ],
   "source": [
    "main_df[['polarity_post_txt','subjectivity_post_txt']].mean()"
   ]
  },
  {
   "cell_type": "markdown",
   "metadata": {},
   "source": [
    "### Text preprocessing"
   ]
  },
  {
   "cell_type": "code",
   "execution_count": null,
   "metadata": {},
   "outputs": [],
   "source": [
    "# Converting list with hashtags to string\n",
    "main_df['hashtags'] = main_df['hashtags'].apply(lambda row: ' '.join(word for word in row))"
   ]
  },
  {
   "cell_type": "code",
   "execution_count": 16,
   "metadata": {},
   "outputs": [],
   "source": [
    "def text_preprocessing(columns,df=main_df):\n",
    "    for column in columns:\n",
    "        # removing non-letters\n",
    "        df[column] = df[column].map(lambda x:re.sub(\"[^a-zA-Z]\", \" \", x))\n",
    "        # Instantiating Tokenizer and setting a pattern to only words\n",
    "        # applying Tokenizer to texts\n",
    "        tokenizer = RegexpTokenizer(r'\\w+')\n",
    "        df[column] = df[column].map(lambda x: tokenizer.tokenize(x.lower()))\n",
    "        # # back to string\n",
    "        # main_df['post_text'] = main_df['post_text'].apply(lambda row: ' '.join(word for word in row))"
   ]
  },
  {
   "cell_type": "code",
   "execution_count": 12,
   "metadata": {},
   "outputs": [],
   "source": [
    "text_preprocessing(columns=['post_text','what_on_photo','hashtags'])"
   ]
  },
  {
   "cell_type": "code",
   "execution_count": 17,
   "metadata": {},
   "outputs": [],
   "source": [
    "text_preprocessing(columns=['what_on_photo'])"
   ]
  },
  {
   "cell_type": "code",
   "execution_count": 18,
   "metadata": {},
   "outputs": [
    {
     "data": {
      "text/plain": [
       "0         [cloud, sky, ocean, outdoor, nature, and, water]\n",
       "1                            [person, child, and, outdoor]\n",
       "2                       [sky, cloud, outdoor, and, nature]\n",
       "3                            [person, shoes, and, outdoor]\n",
       "4                                        [person, outdoor]\n",
       "                                ...                       \n",
       "241770                                            [people]\n",
       "241771                                            [people]\n",
       "241772                                            [people]\n",
       "241773                                            [people]\n",
       "241774                                      [people, text]\n",
       "Name: what_on_photo, Length: 241775, dtype: object"
      ]
     },
     "execution_count": 18,
     "metadata": {},
     "output_type": "execute_result"
    }
   ],
   "source": [
    "main_df['what_on_photo']"
   ]
  },
  {
   "cell_type": "code",
   "execution_count": 22,
   "metadata": {},
   "outputs": [],
   "source": [
    "def process_words(columns, stop_words=stop_words, allowed_postags=['NOUN', 'ADJ', 'VERB', 'ADV']):\n",
    "    \"\"\"Remove Stopwords and Lemmatization\"\"\"\n",
    "    for column in columns:\n",
    "        texts = main_df[column].values.tolist()\n",
    "        texts = [[word for word in simple_preprocess(str(doc)) if word not in stop_words] for doc in texts]\n",
    "        texts_out = []\n",
    "        nlp = spacy.load('en_core_web_sm', disable=['parser', 'ner'])\n",
    "        for sent in texts:\n",
    "            doc = nlp(\" \".join(sent)) \n",
    "            texts_out.append([token.lemma_ for token in doc if token.pos_ in allowed_postags])\n",
    "        # remove stopwords once more after lemmatization\n",
    "        texts_out = [[word for word in simple_preprocess(str(doc)) if word not in stop_words] for doc in texts_out]    \n",
    "        main_df[column] = texts_out\n",
    "\n",
    "# data_ready = process_words(columns=['post_text','what_on_photo','hashtags'])  # processed Text Data!\n",
    "data_ready = process_words(columns=['what_on_photo'])"
   ]
  },
  {
   "cell_type": "code",
   "execution_count": 23,
   "metadata": {},
   "outputs": [],
   "source": [
    "main_df['what_on_photo'] = main_df['what_on_photo'].apply(lambda x: list(set(x)))"
   ]
  },
  {
   "cell_type": "code",
   "execution_count": 55,
   "metadata": {},
   "outputs": [
    {
     "data": {
      "text/plain": [
       "4188                            water stop plant texte dead\n",
       "44789                      context parent word old patience\n",
       "50345                                 common sense ex texte\n",
       "67244     style addict note voice stop long literally texte\n",
       "98828                                       well texte stop\n",
       "111294                support lockdown remember check texte\n",
       "139330                                   texture sweatshirt\n",
       "139331                               cuff texture pant shoe\n",
       "Name: what_on_photo, dtype: object"
      ]
     },
     "execution_count": 55,
     "metadata": {},
     "output_type": "execute_result"
    }
   ],
   "source": [
    "str_photo = main_df[['what_on_photo','hashtags']].copy()\n",
    "str_photo['what_on_photo'] = str_photo['what_on_photo'].apply(lambda x: ' '.join(word for word in x))\n",
    "str_photo[str_photo['what_on_photo'].str.contains('text')]['what_on_photo']"
   ]
  },
  {
   "cell_type": "code",
   "execution_count": 50,
   "metadata": {},
   "outputs": [],
   "source": [
    "index = main_df[main_df['what_on_photo'].str.len() >10].index\n",
    "main_df.loc[index,'what_on_photo'] = 'text'"
   ]
  },
  {
   "cell_type": "code",
   "execution_count": 119,
   "metadata": {},
   "outputs": [
    {
     "data": {
      "text/plain": [
       "post_text                 0\n",
       "location                  0\n",
       "num_likes_post            0\n",
       "num_views                 0\n",
       "time                      0\n",
       "profile_name              0\n",
       "num_posts                 0\n",
       "full_name_profile         0\n",
       "profile_description       0\n",
       "personal_link             0\n",
       "num_followers             0\n",
       "what_on_photo             0\n",
       "photo_id                  0\n",
       "num_comments              0\n",
       "post_type                 0\n",
       "country                   0\n",
       "main_prof_category        0\n",
       "female                    0\n",
       "male                      0\n",
       "profile_categories        0\n",
       "comments                  0\n",
       "influencer_type           0\n",
       "hashtags_post_text        0\n",
       "hashtags_comments         0\n",
       "hashtags                  0\n",
       "emoji_post_text           0\n",
       "emoji_comments            0\n",
       "len_post_text             0\n",
       "num_of_unique_hashtags    0\n",
       "number_rows               0\n",
       "mean_likes                0\n",
       "post_frequency            0\n",
       "comments_engagement       0\n",
       "like_engagement           0\n",
       "polarity_post_txt         0\n",
       "subjectivity_post_txt     0\n",
       "dtype: int64"
      ]
     },
     "execution_count": 119,
     "metadata": {},
     "output_type": "execute_result"
    }
   ],
   "source": [
    "main_df.isnull().sum()"
   ]
  },
  {
   "cell_type": "code",
   "execution_count": 56,
   "metadata": {},
   "outputs": [],
   "source": [
    "# saving clean dataset with created columns\n",
    "main_df.to_csv('./datasets/main_df_clean.csv',index=False)"
   ]
  },
  {
   "cell_type": "code",
   "execution_count": 2,
   "metadata": {},
   "outputs": [],
   "source": [
    "import ast\n",
    "main_df = pd.read_csv('./datasets/main_df_clean.csv',parse_dates=True)\n",
    "# main_df['hashtags'] = main_df['hashtags'].apply(ast.literal_eval)\n",
    "# main_df['post_text'] = main_df['post_text'].apply(ast.literal_eval)\n",
    "# # main_df['what_on_photo'] = main_df['what_on_photo'].apply(ast.literal_eval)\n",
    "# main_df['emoji_post_text'] = main_df['emoji_post_text'].apply(ast.literal_eval)\n",
    "# main_df['emoji_comments'] = main_df['emoji_comments'].apply(ast.literal_eval)\n",
    "# main_df['profile_categories'] = main_df['profile_categories'].apply(ast.literal_eval)\n",
    "# main_df['time'] = pd.to_datetime(main_df['time'])"
   ]
  },
  {
   "cell_type": "markdown",
   "metadata": {},
   "source": [
    "## Modeled topic addition"
   ]
  },
  {
   "cell_type": "markdown",
   "metadata": {},
   "source": [
    "Topic modeling were performed before this section in the separate notebook."
   ]
  },
  {
   "cell_type": "code",
   "execution_count": 24,
   "metadata": {},
   "outputs": [],
   "source": [
    "topics = pd.read_csv('./datasets/main_df_with_topics.csv')"
   ]
  },
  {
   "cell_type": "code",
   "execution_count": 26,
   "metadata": {},
   "outputs": [
    {
     "data": {
      "text/html": [
       "<div>\n",
       "<style scoped>\n",
       "    .dataframe tbody tr th:only-of-type {\n",
       "        vertical-align: middle;\n",
       "    }\n",
       "\n",
       "    .dataframe tbody tr th {\n",
       "        vertical-align: top;\n",
       "    }\n",
       "\n",
       "    .dataframe thead th {\n",
       "        text-align: right;\n",
       "    }\n",
       "</style>\n",
       "<table border=\"1\" class=\"dataframe\">\n",
       "  <thead>\n",
       "    <tr style=\"text-align: right;\">\n",
       "      <th></th>\n",
       "      <th>post_text</th>\n",
       "      <th>location</th>\n",
       "      <th>num_likes_post</th>\n",
       "      <th>num_views</th>\n",
       "      <th>time</th>\n",
       "      <th>profile_name</th>\n",
       "      <th>num_posts</th>\n",
       "      <th>full_name_profile</th>\n",
       "      <th>profile_description</th>\n",
       "      <th>personal_link</th>\n",
       "      <th>...</th>\n",
       "      <th>comments_engagement</th>\n",
       "      <th>like_engagement</th>\n",
       "      <th>polarity_post_txt</th>\n",
       "      <th>subjectivity_post_txt</th>\n",
       "      <th>all_words</th>\n",
       "      <th>Document_No</th>\n",
       "      <th>Dominant_Topic</th>\n",
       "      <th>Topic_Perc_Contrib</th>\n",
       "      <th>Keywords</th>\n",
       "      <th>Text</th>\n",
       "    </tr>\n",
       "  </thead>\n",
       "  <tbody>\n",
       "    <tr>\n",
       "      <th>0</th>\n",
       "      <td>Photo by Michaela Skovranova @mishkusk | An ic...</td>\n",
       "      <td>Not specified</td>\n",
       "      <td>86864</td>\n",
       "      <td>0</td>\n",
       "      <td>2020-05-21 00:31:43</td>\n",
       "      <td>natgeo</td>\n",
       "      <td>22741</td>\n",
       "      <td>National Geographic</td>\n",
       "      <td>Experience the world through the eyes of Natio...</td>\n",
       "      <td>on.natgeo.com/instagram</td>\n",
       "      <td>...</td>\n",
       "      <td>0.0</td>\n",
       "      <td>0.06</td>\n",
       "      <td>0.155000</td>\n",
       "      <td>0.630000</td>\n",
       "      <td>['photo', 'by', 'michaela', 'skovranova', 'mis...</td>\n",
       "      <td>0</td>\n",
       "      <td>11.0</td>\n",
       "      <td>0.5130</td>\n",
       "      <td>image, shoot, skin, beauty, light, product, ad...</td>\n",
       "      <td>['iceberg', 'shroud', 'mist', 'enchant', 'thin...</td>\n",
       "    </tr>\n",
       "    <tr>\n",
       "      <th>1</th>\n",
       "      <td>Photo by Ivan Kashinsky @ivankphoto | \"As craz...</td>\n",
       "      <td>Not specified</td>\n",
       "      <td>176242</td>\n",
       "      <td>0</td>\n",
       "      <td>2020-05-20 22:03:04</td>\n",
       "      <td>natgeo</td>\n",
       "      <td>22741</td>\n",
       "      <td>National Geographic</td>\n",
       "      <td>Experience the world through the eyes of Natio...</td>\n",
       "      <td>on.natgeo.com/instagram</td>\n",
       "      <td>...</td>\n",
       "      <td>0.0</td>\n",
       "      <td>0.13</td>\n",
       "      <td>-0.043664</td>\n",
       "      <td>0.409091</td>\n",
       "      <td>['photo', 'by', 'ivan', 'kashinsky', 'ivankpho...</td>\n",
       "      <td>1</td>\n",
       "      <td>9.0</td>\n",
       "      <td>0.3121</td>\n",
       "      <td>support, help, business, work, world, local, t...</td>\n",
       "      <td>['sit', 'fence', 'free', 'month', 'live', 'tog...</td>\n",
       "    </tr>\n",
       "    <tr>\n",
       "      <th>2</th>\n",
       "      <td>Photo by David Guttenfelder @dguttenfelder | A...</td>\n",
       "      <td>Not specified</td>\n",
       "      <td>271002</td>\n",
       "      <td>0</td>\n",
       "      <td>2020-05-20 19:34:07</td>\n",
       "      <td>natgeo</td>\n",
       "      <td>22741</td>\n",
       "      <td>National Geographic</td>\n",
       "      <td>Experience the world through the eyes of Natio...</td>\n",
       "      <td>on.natgeo.com/instagram</td>\n",
       "      <td>...</td>\n",
       "      <td>0.0</td>\n",
       "      <td>0.20</td>\n",
       "      <td>0.250000</td>\n",
       "      <td>0.312500</td>\n",
       "      <td>['photo', 'by', 'david', 'guttenfelder', 'dgut...</td>\n",
       "      <td>2</td>\n",
       "      <td>9.0</td>\n",
       "      <td>0.3901</td>\n",
       "      <td>support, help, business, work, world, local, t...</td>\n",
       "      <td>['highway', 'sunrise', 'cross', 'electric', 'c...</td>\n",
       "    </tr>\n",
       "    <tr>\n",
       "      <th>3</th>\n",
       "      <td>Photo by @sarahyltonphoto | In December, women...</td>\n",
       "      <td>Not specified</td>\n",
       "      <td>104315</td>\n",
       "      <td>0</td>\n",
       "      <td>2020-05-20 17:04:58</td>\n",
       "      <td>natgeo</td>\n",
       "      <td>22741</td>\n",
       "      <td>National Geographic</td>\n",
       "      <td>Experience the world through the eyes of Natio...</td>\n",
       "      <td>on.natgeo.com/instagram</td>\n",
       "      <td>...</td>\n",
       "      <td>0.0</td>\n",
       "      <td>0.08</td>\n",
       "      <td>0.261161</td>\n",
       "      <td>0.517857</td>\n",
       "      <td>['photo', 'by', 'sarahyltonphoto', 'in', 'dece...</td>\n",
       "      <td>3</td>\n",
       "      <td>9.0</td>\n",
       "      <td>0.5108</td>\n",
       "      <td>support, help, business, work, world, local, t...</td>\n",
       "      <td>['woman', 'sort', 'city', 'large', 'recycling'...</td>\n",
       "    </tr>\n",
       "    <tr>\n",
       "      <th>4</th>\n",
       "      <td>Photos by @gabrielegalimbertiphoto | Before th...</td>\n",
       "      <td>Not specified</td>\n",
       "      <td>135122</td>\n",
       "      <td>0</td>\n",
       "      <td>2020-05-20 14:36:39</td>\n",
       "      <td>natgeo</td>\n",
       "      <td>22741</td>\n",
       "      <td>National Geographic</td>\n",
       "      <td>Experience the world through the eyes of Natio...</td>\n",
       "      <td>on.natgeo.com/instagram</td>\n",
       "      <td>...</td>\n",
       "      <td>0.0</td>\n",
       "      <td>0.10</td>\n",
       "      <td>-0.020455</td>\n",
       "      <td>0.374242</td>\n",
       "      <td>['photos', 'by', 'gabrielegalimbertiphoto', 'b...</td>\n",
       "      <td>4</td>\n",
       "      <td>11.0</td>\n",
       "      <td>0.3460</td>\n",
       "      <td>image, shoot, skin, beauty, light, product, ad...</td>\n",
       "      <td>['photo', 'treat', 'destine', 'suffocate', 'co...</td>\n",
       "    </tr>\n",
       "  </tbody>\n",
       "</table>\n",
       "<p>5 rows × 42 columns</p>\n",
       "</div>"
      ],
      "text/plain": [
       "                                           post_text       location  \\\n",
       "0  Photo by Michaela Skovranova @mishkusk | An ic...  Not specified   \n",
       "1  Photo by Ivan Kashinsky @ivankphoto | \"As craz...  Not specified   \n",
       "2  Photo by David Guttenfelder @dguttenfelder | A...  Not specified   \n",
       "3  Photo by @sarahyltonphoto | In December, women...  Not specified   \n",
       "4  Photos by @gabrielegalimbertiphoto | Before th...  Not specified   \n",
       "\n",
       "   num_likes_post  num_views                 time profile_name  num_posts  \\\n",
       "0           86864          0  2020-05-21 00:31:43       natgeo      22741   \n",
       "1          176242          0  2020-05-20 22:03:04       natgeo      22741   \n",
       "2          271002          0  2020-05-20 19:34:07       natgeo      22741   \n",
       "3          104315          0  2020-05-20 17:04:58       natgeo      22741   \n",
       "4          135122          0  2020-05-20 14:36:39       natgeo      22741   \n",
       "\n",
       "     full_name_profile                                profile_description  \\\n",
       "0  National Geographic  Experience the world through the eyes of Natio...   \n",
       "1  National Geographic  Experience the world through the eyes of Natio...   \n",
       "2  National Geographic  Experience the world through the eyes of Natio...   \n",
       "3  National Geographic  Experience the world through the eyes of Natio...   \n",
       "4  National Geographic  Experience the world through the eyes of Natio...   \n",
       "\n",
       "             personal_link  ...  comments_engagement like_engagement  \\\n",
       "0  on.natgeo.com/instagram  ...                  0.0            0.06   \n",
       "1  on.natgeo.com/instagram  ...                  0.0            0.13   \n",
       "2  on.natgeo.com/instagram  ...                  0.0            0.20   \n",
       "3  on.natgeo.com/instagram  ...                  0.0            0.08   \n",
       "4  on.natgeo.com/instagram  ...                  0.0            0.10   \n",
       "\n",
       "  polarity_post_txt  subjectivity_post_txt  \\\n",
       "0          0.155000               0.630000   \n",
       "1         -0.043664               0.409091   \n",
       "2          0.250000               0.312500   \n",
       "3          0.261161               0.517857   \n",
       "4         -0.020455               0.374242   \n",
       "\n",
       "                                           all_words Document_No  \\\n",
       "0  ['photo', 'by', 'michaela', 'skovranova', 'mis...           0   \n",
       "1  ['photo', 'by', 'ivan', 'kashinsky', 'ivankpho...           1   \n",
       "2  ['photo', 'by', 'david', 'guttenfelder', 'dgut...           2   \n",
       "3  ['photo', 'by', 'sarahyltonphoto', 'in', 'dece...           3   \n",
       "4  ['photos', 'by', 'gabrielegalimbertiphoto', 'b...           4   \n",
       "\n",
       "  Dominant_Topic  Topic_Perc_Contrib  \\\n",
       "0           11.0              0.5130   \n",
       "1            9.0              0.3121   \n",
       "2            9.0              0.3901   \n",
       "3            9.0              0.5108   \n",
       "4           11.0              0.3460   \n",
       "\n",
       "                                            Keywords  \\\n",
       "0  image, shoot, skin, beauty, light, product, ad...   \n",
       "1  support, help, business, work, world, local, t...   \n",
       "2  support, help, business, work, world, local, t...   \n",
       "3  support, help, business, work, world, local, t...   \n",
       "4  image, shoot, skin, beauty, light, product, ad...   \n",
       "\n",
       "                                                Text  \n",
       "0  ['iceberg', 'shroud', 'mist', 'enchant', 'thin...  \n",
       "1  ['sit', 'fence', 'free', 'month', 'live', 'tog...  \n",
       "2  ['highway', 'sunrise', 'cross', 'electric', 'c...  \n",
       "3  ['woman', 'sort', 'city', 'large', 'recycling'...  \n",
       "4  ['photo', 'treat', 'destine', 'suffocate', 'co...  \n",
       "\n",
       "[5 rows x 42 columns]"
      ]
     },
     "execution_count": 26,
     "metadata": {},
     "output_type": "execute_result"
    }
   ],
   "source": [
    "topics.head()"
   ]
  },
  {
   "cell_type": "code",
   "execution_count": 25,
   "metadata": {},
   "outputs": [],
   "source": [
    "main_df['topic'] = topics['Dominant_Topic']\n",
    "main_df['keywords'] = topics['Keywords']"
   ]
  },
  {
   "cell_type": "code",
   "execution_count": 5,
   "metadata": {},
   "outputs": [],
   "source": [
    "# saving clean dataset with created columns\n",
    "main_df.to_csv('./datasets/main_df_clean.csv',index=False)"
   ]
  }
 ],
 "metadata": {
  "kernelspec": {
   "display_name": "Python 3",
   "language": "python",
   "name": "python3"
  },
  "language_info": {
   "codemirror_mode": {
    "name": "ipython",
    "version": 3
   },
   "file_extension": ".py",
   "mimetype": "text/x-python",
   "name": "python",
   "nbconvert_exporter": "python",
   "pygments_lexer": "ipython3",
   "version": "3.7.7"
  },
  "varInspector": {
   "cols": {
    "lenName": 16,
    "lenType": 16,
    "lenVar": 40
   },
   "kernels_config": {
    "python": {
     "delete_cmd_postfix": "",
     "delete_cmd_prefix": "del ",
     "library": "var_list.py",
     "varRefreshCmd": "print(var_dic_list())"
    },
    "r": {
     "delete_cmd_postfix": ") ",
     "delete_cmd_prefix": "rm(",
     "library": "var_list.r",
     "varRefreshCmd": "cat(var_dic_list()) "
    }
   },
   "types_to_exclude": [
    "module",
    "function",
    "builtin_function_or_method",
    "instance",
    "_Feature"
   ],
   "window_display": false
  }
 },
 "nbformat": 4,
 "nbformat_minor": 4
}
